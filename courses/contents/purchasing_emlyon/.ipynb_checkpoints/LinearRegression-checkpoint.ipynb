{
 "cells": [
  {
   "cell_type": "markdown",
   "id": "c856c2cf-494d-415f-b333-078048402e69",
   "metadata": {},
   "source": [
    "# Simple and Multiple Linear Regression with Python"
   ]
  },
  {
   "cell_type": "markdown",
   "id": "b874d320-25b0-44ec-b0e5-64b8cdae4de8",
   "metadata": {},
   "source": [
    "The aim of this fist course is to make an introduction of the linear regression model from a **Statistical** point of view. \n",
    "We are going to see, in the next courses, how we are going to study this model from a **Machine Learning** point of view, *i.e.*, given a different context.\n",
    "\n",
    "In the previous class, we have seen we can study the link between two random variables where at least one was a *qualtative* one. \n",
    "We have built some test in order to determine if the link between these two variables was significant or not. \n",
    "\n",
    "We are going a little bit further now and study the link between two (or more) quantitatives random variables. More precisely, we are going to study the relation between a random variable *Y*, which will be called the **dependent** random variable and $X_1, X_2, \\ldots, X_p$ a set of **independent** random variables.\n",
    "We aim to study if ce are able to predict the values taken by the random variable $Y$ using the set of variables $X_1, X_2, \\ldots, X_p$.\n",
    "\n",
    "For instance, this is done to predict the sales revenue in a given store ($Y$) using several information, the temperature of the day ($X_1$), the number of customers ($X_2$) you are going to have in the store (this number can be predicted by another type of model) if you are in the weekend or not ($X_3$), etc. \n",
    "\n",
    "\n"
   ]
  },
  {
   "cell_type": "markdown",
   "id": "846fb34c-7305-4bca-89c8-99bd735abae9",
   "metadata": {},
   "source": [
    "## 1. Presentation of the model"
   ]
  },
  {
   "cell_type": "markdown",
   "id": "68f36d8a-5e17-432a-ad03-c69019f14b59",
   "metadata": {},
   "source": [
    "In order to do the prediction, we are going to assume that we have linear relationship between $Y$ and $X_1, X_2, \\ldots, X_p$, *i.e.*, \n",
    "\n",
    "$$ Y = \\beta_0 + \\beta_1 X_1 + \\beta_2 X_2 + \\ldots + \\beta_p X_p + \\varepsilon$$,\n",
    "\n",
    "where \n",
    "\n",
    "- $Y$ is the dependent variable,\n",
    "- $X_j, \\; j=1, \\ldots, p $ are the dependent variable,\n",
    "- $\\beta_j, \\; j=1,\\ldots, p$ are the parameters of the model,\n",
    "- $\\varepsilon$ are random noise which represent the noise in the data/model (it means that the model we are learning is not a perfect one).\n",
    "\n",
    "Most of the time, we assume that we are working in the *Gaussian* setting, thus, we are formulating assumptions on the erros of the model:\n",
    "\n",
    "- the data $S= \\lbrace (y_i,\\bf{x}_i)\\rbrace_{i=1}^m$ are independent,\n",
    "- the noise follow a normal distribution and are independent, *i.e.*, $\\varepsilon \\underset{i.i.d.}{\\sim} \\mathcal{N}(0,\\sigma^2)$, where the variance of the model is the same for every observations.\n",
    "\n",
    "The above problem is usually written as follows, using matrices\n",
    "\n",
    "$$ Y = X\\beta + \\varepsilon$$,\n",
    "\n",
    "where\n",
    "\n",
    "- $X \\in \\mathbb{R}^{m\\times (p+1)}$ is the *design* matrix,\n",
    "- $y$ is the vector of observations $y_1, \\ldots, y_p$,\n",
    "- $\\beta = (\\beta_1, \\ldots, \\beta_p) \\in \\mathbb{R}^{p+1} $ is the parameter vector.\n",
    "- $\\varepsilon = (\\varepsilon_1, \\ldots, \\varepsilon_p)\\in \\mathbb{R}^{m} $ is the vector of random errors in the data."
   ]
  },
  {
   "cell_type": "markdown",
   "id": "992c9bb2-b388-45ef-affc-4d055660224d",
   "metadata": {},
   "source": [
    "### Example 1"
   ]
  },
  {
   "cell_type": "markdown",
   "id": "b25d116e-83c6-4498-80cd-ed2b91205cc0",
   "metadata": {},
   "source": [
    "We consider a little dataset where we aim to predict the values taken by a randim variable $Y$ given another variable $X$.\n",
    "We are going to work with the following dataset."
   ]
  },
  {
   "cell_type": "code",
   "execution_count": 1,
   "id": "0fd78ece-f43f-47ed-8368-3e1a143db636",
   "metadata": {},
   "outputs": [],
   "source": [
    "# First, we import the required package to perform a linear regression\n",
    "\n",
    "import statsmodels.api as sm\n",
    "import matplotlib.pyplot as plt"
   ]
  },
  {
   "cell_type": "code",
   "execution_count": 2,
   "id": "c2c4114e-3097-427f-9f98-f697bc57c66f",
   "metadata": {},
   "outputs": [
    {
     "data": {
      "text/html": [
       "<div>\n",
       "<style scoped>\n",
       "    .dataframe tbody tr th:only-of-type {\n",
       "        vertical-align: middle;\n",
       "    }\n",
       "\n",
       "    .dataframe tbody tr th {\n",
       "        vertical-align: top;\n",
       "    }\n",
       "\n",
       "    .dataframe thead th {\n",
       "        text-align: right;\n",
       "    }\n",
       "</style>\n",
       "<table border=\"1\" class=\"dataframe\">\n",
       "  <thead>\n",
       "    <tr style=\"text-align: right;\">\n",
       "      <th></th>\n",
       "      <th>type</th>\n",
       "      <th>income</th>\n",
       "      <th>education</th>\n",
       "      <th>prestige</th>\n",
       "    </tr>\n",
       "    <tr>\n",
       "      <th>rownames</th>\n",
       "      <th></th>\n",
       "      <th></th>\n",
       "      <th></th>\n",
       "      <th></th>\n",
       "    </tr>\n",
       "  </thead>\n",
       "  <tbody>\n",
       "    <tr>\n",
       "      <th>accountant</th>\n",
       "      <td>prof</td>\n",
       "      <td>62</td>\n",
       "      <td>86</td>\n",
       "      <td>82</td>\n",
       "    </tr>\n",
       "    <tr>\n",
       "      <th>pilot</th>\n",
       "      <td>prof</td>\n",
       "      <td>72</td>\n",
       "      <td>76</td>\n",
       "      <td>83</td>\n",
       "    </tr>\n",
       "    <tr>\n",
       "      <th>architect</th>\n",
       "      <td>prof</td>\n",
       "      <td>75</td>\n",
       "      <td>92</td>\n",
       "      <td>90</td>\n",
       "    </tr>\n",
       "    <tr>\n",
       "      <th>author</th>\n",
       "      <td>prof</td>\n",
       "      <td>55</td>\n",
       "      <td>90</td>\n",
       "      <td>76</td>\n",
       "    </tr>\n",
       "    <tr>\n",
       "      <th>chemist</th>\n",
       "      <td>prof</td>\n",
       "      <td>64</td>\n",
       "      <td>86</td>\n",
       "      <td>90</td>\n",
       "    </tr>\n",
       "  </tbody>\n",
       "</table>\n",
       "</div>"
      ],
      "text/plain": [
       "            type  income  education  prestige\n",
       "rownames                                     \n",
       "accountant  prof      62         86        82\n",
       "pilot       prof      72         76        83\n",
       "architect   prof      75         92        90\n",
       "author      prof      55         90        76\n",
       "chemist     prof      64         86        90"
      ]
     },
     "execution_count": 2,
     "metadata": {},
     "output_type": "execute_result"
    }
   ],
   "source": [
    "# We download the dataset we are going to work.\n",
    "\n",
    "df = sm.datasets.get_rdataset('Duncan', 'carData').data\n",
    "y = df['income']\n",
    "x = df['education']\n",
    "\n",
    "# To show the first lines of the dataset.\n",
    "\n",
    "df.head()"
   ]
  },
  {
   "cell_type": "markdown",
   "id": "dd29e005-03c9-41f1-b939-65c20a7bba55",
   "metadata": {},
   "source": [
    "In this example, we want to predict the **income** given the **education** of the observation.\n",
    "Later, we are going to consider the other variable prestige, in order to work with a multiple linear regression."
   ]
  },
  {
   "cell_type": "code",
   "execution_count": 3,
   "id": "959d2a87-585b-429f-8795-b23ec148e67a",
   "metadata": {},
   "outputs": [
    {
     "data": {
      "text/plain": [
       "Text(0, 0.5, 'Income')"
      ]
     },
     "execution_count": 3,
     "metadata": {},
     "output_type": "execute_result"
    },
    {
     "data": {
      "image/png": "[encoded data removed]",
      "text/plain": [
       "<Figure size 640x480 with 1 Axes>"
      ]
     },
     "metadata": {},
     "output_type": "display_data"
    }
   ],
   "source": [
    "# Representation of the data\n",
    "\n",
    "plt.scatter(x,y, alpha = 0.8)\n",
    "plt.title(\"Representation of the data set\")\n",
    "plt.xlabel(\"Education\")\n",
    "plt.ylabel(\"Income\")\n"
   ]
  },
  {
   "cell_type": "code",
   "execution_count": 4,
   "id": "699c5901-4606-43db-aeed-dc0a845fdfa8",
   "metadata": {},
   "outputs": [
    {
     "data": {
      "text/plain": [
       "<matplotlib.legend.Legend at 0x169c836e0>"
      ]
     },
     "execution_count": 4,
     "metadata": {},
     "output_type": "execute_result"
    },
    {
     "data": {
      "image/png": "[encoded data removed]",
      "text/plain": [
       "<Figure size 640x480 with 1 Axes>"
      ]
     },
     "metadata": {},
     "output_type": "display_data"
    }
   ],
   "source": [
    "# Learn the model\n",
    "\n",
    "model = sm.OLS(y, sm.add_constant(x))\n",
    "results = model.fit()\n",
    "\n",
    "# Extract the model parameters\n",
    "b, m = results.params\n",
    "\n",
    "# Represent the learning model\n",
    "plt.scatter(x, y, label=\"Train data points\")\n",
    "plt.plot(\n",
    "    x,\n",
    "    results.predict(),\n",
    "    linewidth=3,\n",
    "    color=\"tab:orange\",\n",
    "    label=\"Model predictions\",\n",
    ")\n",
    "plt.title(\"Linear Regression\")\n",
    "plt.xlabel(\"Education\")\n",
    "plt.ylabel(\"Income\")\n",
    "plt.legend()"
   ]
  },
  {
   "cell_type": "markdown",
   "id": "7ef15a1e-5f2d-4951-bcce-e643d315a366",
   "metadata": {},
   "source": [
    "It seems that we have a linear relationship between these two variables. The following line of code provides several outputs on the learned model that we are going to explain in this course."
   ]
  },
  {
   "cell_type": "code",
   "execution_count": 5,
   "id": "4b5f1caf-be52-4af6-988c-b6a806adcc7e",
   "metadata": {},
   "outputs": [
    {
     "data": {
      "text/html": [
       "<table class=\"simpletable\">\n",
       "<caption>OLS Regression Results</caption>\n",
       "<tr>\n",
       "  <th>Dep. Variable:</th>         <td>income</td>      <th>  R-squared:         </th> <td>   0.525</td>\n",
       "</tr>\n",
       "<tr>\n",
       "  <th>Model:</th>                   <td>OLS</td>       <th>  Adj. R-squared:    </th> <td>   0.514</td>\n",
       "</tr>\n",
       "<tr>\n",
       "  <th>Method:</th>             <td>Least Squares</td>  <th>  F-statistic:       </th> <td>   47.51</td>\n",
       "</tr>\n",
       "<tr>\n",
       "  <th>Date:</th>             <td>Thu, 06 Mar 2025</td> <th>  Prob (F-statistic):</th> <td>1.84e-08</td>\n",
       "</tr>\n",
       "<tr>\n",
       "  <th>Time:</th>                 <td>08:55:43</td>     <th>  Log-Likelihood:    </th> <td> -190.42</td>\n",
       "</tr>\n",
       "<tr>\n",
       "  <th>No. Observations:</th>      <td>    45</td>      <th>  AIC:               </th> <td>   384.8</td>\n",
       "</tr>\n",
       "<tr>\n",
       "  <th>Df Residuals:</th>          <td>    43</td>      <th>  BIC:               </th> <td>   388.5</td>\n",
       "</tr>\n",
       "<tr>\n",
       "  <th>Df Model:</th>              <td>     1</td>      <th>                     </th>     <td> </td>   \n",
       "</tr>\n",
       "<tr>\n",
       "  <th>Covariance Type:</th>      <td>nonrobust</td>    <th>                     </th>     <td> </td>   \n",
       "</tr>\n",
       "</table>\n",
       "<table class=\"simpletable\">\n",
       "<tr>\n",
       "      <td></td>         <th>coef</th>     <th>std err</th>      <th>t</th>      <th>P>|t|</th>  <th>[0.025</th>    <th>0.975]</th>  \n",
       "</tr>\n",
       "<tr>\n",
       "  <th>const</th>     <td>   10.6035</td> <td>    5.198</td> <td>    2.040</td> <td> 0.048</td> <td>    0.120</td> <td>   21.087</td>\n",
       "</tr>\n",
       "<tr>\n",
       "  <th>education</th> <td>    0.5949</td> <td>    0.086</td> <td>    6.893</td> <td> 0.000</td> <td>    0.421</td> <td>    0.769</td>\n",
       "</tr>\n",
       "</table>\n",
       "<table class=\"simpletable\">\n",
       "<tr>\n",
       "  <th>Omnibus:</th>       <td> 9.841</td> <th>  Durbin-Watson:     </th> <td>   1.736</td>\n",
       "</tr>\n",
       "<tr>\n",
       "  <th>Prob(Omnibus):</th> <td> 0.007</td> <th>  Jarque-Bera (JB):  </th> <td>  10.609</td>\n",
       "</tr>\n",
       "<tr>\n",
       "  <th>Skew:</th>          <td> 0.776</td> <th>  Prob(JB):          </th> <td> 0.00497</td>\n",
       "</tr>\n",
       "<tr>\n",
       "  <th>Kurtosis:</th>      <td> 4.802</td> <th>  Cond. No.          </th> <td>    123.</td>\n",
       "</tr>\n",
       "</table><br/><br/>Notes:<br/>[1] Standard Errors assume that the covariance matrix of the errors is correctly specified."
      ],
      "text/latex": [
       "\\begin{center}\n",
       "\\begin{tabular}{lclc}\n",
       "\\toprule\n",
       "\\textbf{Dep. Variable:}    &      income      & \\textbf{  R-squared:         } &     0.525   \\\\\n",
       "\\textbf{Model:}            &       OLS        & \\textbf{  Adj. R-squared:    } &     0.514   \\\\\n",
       "\\textbf{Method:}           &  Least Squares   & \\textbf{  F-statistic:       } &     47.51   \\\\\n",
       "\\textbf{Date:}             & Thu, 06 Mar 2025 & \\textbf{  Prob (F-statistic):} &  1.84e-08   \\\\\n",
       "\\textbf{Time:}             &     08:55:43     & \\textbf{  Log-Likelihood:    } &   -190.42   \\\\\n",
       "\\textbf{No. Observations:} &          45      & \\textbf{  AIC:               } &     384.8   \\\\\n",
       "\\textbf{Df Residuals:}     &          43      & \\textbf{  BIC:               } &     388.5   \\\\\n",
       "\\textbf{Df Model:}         &           1      & \\textbf{                     } &             \\\\\n",
       "\\textbf{Covariance Type:}  &    nonrobust     & \\textbf{                     } &             \\\\\n",
       "\\bottomrule\n",
       "\\end{tabular}\n",
       "\\begin{tabular}{lcccccc}\n",
       "                   & \\textbf{coef} & \\textbf{std err} & \\textbf{t} & \\textbf{P$> |$t$|$} & \\textbf{[0.025} & \\textbf{0.975]}  \\\\\n",
       "\\midrule\n",
       "\\textbf{const}     &      10.6035  &        5.198     &     2.040  &         0.048        &        0.120    &       21.087     \\\\\n",
       "\\textbf{education} &       0.5949  &        0.086     &     6.893  &         0.000        &        0.421    &        0.769     \\\\\n",
       "\\bottomrule\n",
       "\\end{tabular}\n",
       "\\begin{tabular}{lclc}\n",
       "\\textbf{Omnibus:}       &  9.841 & \\textbf{  Durbin-Watson:     } &    1.736  \\\\\n",
       "\\textbf{Prob(Omnibus):} &  0.007 & \\textbf{  Jarque-Bera (JB):  } &   10.609  \\\\\n",
       "\\textbf{Skew:}          &  0.776 & \\textbf{  Prob(JB):          } &  0.00497  \\\\\n",
       "\\textbf{Kurtosis:}      &  4.802 & \\textbf{  Cond. No.          } &     123.  \\\\\n",
       "\\bottomrule\n",
       "\\end{tabular}\n",
       "%\\caption{OLS Regression Results}\n",
       "\\end{center}\n",
       "\n",
       "Notes: \\newline\n",
       " [1] Standard Errors assume that the covariance matrix of the errors is correctly specified."
      ],
      "text/plain": [
       "<class 'statsmodels.iolib.summary.Summary'>\n",
       "\"\"\"\n",
       "                            OLS Regression Results                            \n",
       "==============================================================================\n",
       "Dep. Variable:                 income   R-squared:                       0.525\n",
       "Model:                            OLS   Adj. R-squared:                  0.514\n",
       "Method:                 Least Squares   F-statistic:                     47.51\n",
       "Date:                Thu, 06 Mar 2025   Prob (F-statistic):           1.84e-08\n",
       "Time:                        08:55:43   Log-Likelihood:                -190.42\n",
       "No. Observations:                  45   AIC:                             384.8\n",
       "Df Residuals:                      43   BIC:                             388.5\n",
       "Df Model:                           1                                         \n",
       "Covariance Type:            nonrobust                                         \n",
       "==============================================================================\n",
       "                 coef    std err          t      P>|t|      [0.025      0.975]\n",
       "------------------------------------------------------------------------------\n",
       "const         10.6035      5.198      2.040      0.048       0.120      21.087\n",
       "education      0.5949      0.086      6.893      0.000       0.421       0.769\n",
       "==============================================================================\n",
       "Omnibus:                        9.841   Durbin-Watson:                   1.736\n",
       "Prob(Omnibus):                  0.007   Jarque-Bera (JB):               10.609\n",
       "Skew:                           0.776   Prob(JB):                      0.00497\n",
       "Kurtosis:                       4.802   Cond. No.                         123.\n",
       "==============================================================================\n",
       "\n",
       "Notes:\n",
       "[1] Standard Errors assume that the covariance matrix of the errors is correctly specified.\n",
       "\"\"\""
      ]
     },
     "execution_count": 5,
     "metadata": {},
     "output_type": "execute_result"
    }
   ],
   "source": [
    "# Summary of the model\n",
    "\n",
    "results.summary()"
   ]
  },
  {
   "cell_type": "markdown",
   "id": "8549f84e-f281-406c-aeb1-59e55eaf540b",
   "metadata": {},
   "source": [
    "## 2. Parameter estimation"
   ]
  },
  {
   "cell_type": "markdown",
   "id": "9bcfa4c3-914a-4d14-8465-baf2ffc97992",
   "metadata": {},
   "source": [
    "We have previously seen that the a line was learned to describe the relation between the two variables. But ... how is it learned? \n",
    "\n",
    "Keep in mind that the main idea is to find a *line* which is good approximation of the dataset, *i.e.* which is not far from the set of points. But, what does that mean not being far from a set of point, which distance are we going to use for this and how the parameters $\\beta_j$ estimated. \n",
    "\n",
    "All of this is given in the proposition below"
   ]
  },
  {
   "cell_type": "markdown",
   "id": "5c8826f0-cb2b-4273-89a7-1f49f560d41c",
   "metadata": {},
   "source": [
    "**Proposition:** We consider the following probabilistic model for our data.\n",
    "\n",
    "$$Y =  X\\beta + \\varepsilon,$$\n",
    "\n",
    "where $Y$ it the predicted variable and $X$ is the set of variables that are used for the prediction and $\\varepsilon$ represents the error of the model.\\\\\n",
    "We consider a hypothesis $h$ of the form:\n",
    "\n",
    "$$h(\\beta,X) = \\beta_0 + \\beta_1 x_1 + \\beta_2 x_2 + \\ldots + \\beta_p x_p. $$\n",
    "\n",
    "Given a set $S$ of $m$ examples, $X = (x_1,x_2,\\ldots,x_m)$ and $y = (y_1,y_2,\\ldots, y_m)$\n",
    "then the solution of Ordinary Least Square problem:\n",
    "\n",
    "$$\\underset{\\beta \\in \\mathbb{R}^{p+1}}{\\min} \\; \\Vert y-h(\\beta, X) \\Vert_2^2 = \\underset{\\beta \\in \\mathbb{R}^{p+1}}{\\min} \\; \\sum_{i=1}^m \\left(y_i - h(\\beta,x_i)\\right)^2 = \\underset{\\beta \\in \\mathbb{R}^{p+1}}{\\min} \\; \\sum_{i=1}^m \\left(y_i - (\\beta_0 + \\beta_1 x_{i,1} + \\beta_2 x_{i,2} + \\ldots + \\beta_p x_{i,p})\\right)^2 ,$$\n",
    "\n",
    "is given by: \n",
    "\n",
    "$$\\hat{\\beta} = (X^\\top X)^{-1}X^\\top y.$$"
   ]
  },
  {
   "cell_type": "markdown",
   "id": "dc89b1b4-ae42-40ec-bf77-947190742bde",
   "metadata": {},
   "source": [
    "### Exercise 1: Expression of the solution for the simple linear model"
   ]
  },
  {
   "cell_type": "markdown",
   "id": "5823f717-3d83-4747-9718-1095ade8f6df",
   "metadata": {},
   "source": [
    "Use your knowledge to give an expression of the slope and the intercept of the simple linear model using matrix calculations and the result presented above. \n",
    "More precisely, show that the slope $\\beta_1$ and the intercept $\\beta_0$ are respectively given by :\n",
    "\n",
    "$$ \\hat\\beta_1 = \\dfrac{Cov[X,Y]}{Var[X]} \\quad \\text{and} \\quad \\hat\\beta_0 = \\mathbb{E}[Y] - \\hat\\beta_1\\mathbb{E}[X],$$\n",
    "\n",
    "where $\\mathbb{E}[•]$ stands for the expectation of the random variable, $i.e.$, its mean value, $Var[•]$ for its variance and $Cov[•,•]$ stands for the covriance of a couple of random variables."
   ]
  },
  {
   "cell_type": "markdown",
   "id": "49f14651-27c7-4b0a-a436-8f1af15bdf9a",
   "metadata": {},
   "source": [
    "## 3. Output of the linear model"
   ]
  },
  {
   "cell_type": "code",
   "execution_count": 6,
   "id": "519e684b-f782-481b-b402-3464bd9d3839",
   "metadata": {},
   "outputs": [
    {
     "data": {
      "text/html": [
       "<table class=\"simpletable\">\n",
       "<caption>OLS Regression Results</caption>\n",
       "<tr>\n",
       "  <th>Dep. Variable:</th>         <td>income</td>      <th>  R-squared:         </th> <td>   0.525</td>\n",
       "</tr>\n",
       "<tr>\n",
       "  <th>Model:</th>                   <td>OLS</td>       <th>  Adj. R-squared:    </th> <td>   0.514</td>\n",
       "</tr>\n",
       "<tr>\n",
       "  <th>Method:</th>             <td>Least Squares</td>  <th>  F-statistic:       </th> <td>   47.51</td>\n",
       "</tr>\n",
       "<tr>\n",
       "  <th>Date:</th>             <td>Thu, 06 Mar 2025</td> <th>  Prob (F-statistic):</th> <td>1.84e-08</td>\n",
       "</tr>\n",
       "<tr>\n",
       "  <th>Time:</th>                 <td>08:55:43</td>     <th>  Log-Likelihood:    </th> <td> -190.42</td>\n",
       "</tr>\n",
       "<tr>\n",
       "  <th>No. Observations:</th>      <td>    45</td>      <th>  AIC:               </th> <td>   384.8</td>\n",
       "</tr>\n",
       "<tr>\n",
       "  <th>Df Residuals:</th>          <td>    43</td>      <th>  BIC:               </th> <td>   388.5</td>\n",
       "</tr>\n",
       "<tr>\n",
       "  <th>Df Model:</th>              <td>     1</td>      <th>                     </th>     <td> </td>   \n",
       "</tr>\n",
       "<tr>\n",
       "  <th>Covariance Type:</th>      <td>nonrobust</td>    <th>                     </th>     <td> </td>   \n",
       "</tr>\n",
       "</table>\n",
       "<table class=\"simpletable\">\n",
       "<tr>\n",
       "      <td></td>         <th>coef</th>     <th>std err</th>      <th>t</th>      <th>P>|t|</th>  <th>[0.025</th>    <th>0.975]</th>  \n",
       "</tr>\n",
       "<tr>\n",
       "  <th>const</th>     <td>   10.6035</td> <td>    5.198</td> <td>    2.040</td> <td> 0.048</td> <td>    0.120</td> <td>   21.087</td>\n",
       "</tr>\n",
       "<tr>\n",
       "  <th>education</th> <td>    0.5949</td> <td>    0.086</td> <td>    6.893</td> <td> 0.000</td> <td>    0.421</td> <td>    0.769</td>\n",
       "</tr>\n",
       "</table>\n",
       "<table class=\"simpletable\">\n",
       "<tr>\n",
       "  <th>Omnibus:</th>       <td> 9.841</td> <th>  Durbin-Watson:     </th> <td>   1.736</td>\n",
       "</tr>\n",
       "<tr>\n",
       "  <th>Prob(Omnibus):</th> <td> 0.007</td> <th>  Jarque-Bera (JB):  </th> <td>  10.609</td>\n",
       "</tr>\n",
       "<tr>\n",
       "  <th>Skew:</th>          <td> 0.776</td> <th>  Prob(JB):          </th> <td> 0.00497</td>\n",
       "</tr>\n",
       "<tr>\n",
       "  <th>Kurtosis:</th>      <td> 4.802</td> <th>  Cond. No.          </th> <td>    123.</td>\n",
       "</tr>\n",
       "</table><br/><br/>Notes:<br/>[1] Standard Errors assume that the covariance matrix of the errors is correctly specified."
      ],
      "text/latex": [
       "\\begin{center}\n",
       "\\begin{tabular}{lclc}\n",
       "\\toprule\n",
       "\\textbf{Dep. Variable:}    &      income      & \\textbf{  R-squared:         } &     0.525   \\\\\n",
       "\\textbf{Model:}            &       OLS        & \\textbf{  Adj. R-squared:    } &     0.514   \\\\\n",
       "\\textbf{Method:}           &  Least Squares   & \\textbf{  F-statistic:       } &     47.51   \\\\\n",
       "\\textbf{Date:}             & Thu, 06 Mar 2025 & \\textbf{  Prob (F-statistic):} &  1.84e-08   \\\\\n",
       "\\textbf{Time:}             &     08:55:43     & \\textbf{  Log-Likelihood:    } &   -190.42   \\\\\n",
       "\\textbf{No. Observations:} &          45      & \\textbf{  AIC:               } &     384.8   \\\\\n",
       "\\textbf{Df Residuals:}     &          43      & \\textbf{  BIC:               } &     388.5   \\\\\n",
       "\\textbf{Df Model:}         &           1      & \\textbf{                     } &             \\\\\n",
       "\\textbf{Covariance Type:}  &    nonrobust     & \\textbf{                     } &             \\\\\n",
       "\\bottomrule\n",
       "\\end{tabular}\n",
       "\\begin{tabular}{lcccccc}\n",
       "                   & \\textbf{coef} & \\textbf{std err} & \\textbf{t} & \\textbf{P$> |$t$|$} & \\textbf{[0.025} & \\textbf{0.975]}  \\\\\n",
       "\\midrule\n",
       "\\textbf{const}     &      10.6035  &        5.198     &     2.040  &         0.048        &        0.120    &       21.087     \\\\\n",
       "\\textbf{education} &       0.5949  &        0.086     &     6.893  &         0.000        &        0.421    &        0.769     \\\\\n",
       "\\bottomrule\n",
       "\\end{tabular}\n",
       "\\begin{tabular}{lclc}\n",
       "\\textbf{Omnibus:}       &  9.841 & \\textbf{  Durbin-Watson:     } &    1.736  \\\\\n",
       "\\textbf{Prob(Omnibus):} &  0.007 & \\textbf{  Jarque-Bera (JB):  } &   10.609  \\\\\n",
       "\\textbf{Skew:}          &  0.776 & \\textbf{  Prob(JB):          } &  0.00497  \\\\\n",
       "\\textbf{Kurtosis:}      &  4.802 & \\textbf{  Cond. No.          } &     123.  \\\\\n",
       "\\bottomrule\n",
       "\\end{tabular}\n",
       "%\\caption{OLS Regression Results}\n",
       "\\end{center}\n",
       "\n",
       "Notes: \\newline\n",
       " [1] Standard Errors assume that the covariance matrix of the errors is correctly specified."
      ],
      "text/plain": [
       "<class 'statsmodels.iolib.summary.Summary'>\n",
       "\"\"\"\n",
       "                            OLS Regression Results                            \n",
       "==============================================================================\n",
       "Dep. Variable:                 income   R-squared:                       0.525\n",
       "Model:                            OLS   Adj. R-squared:                  0.514\n",
       "Method:                 Least Squares   F-statistic:                     47.51\n",
       "Date:                Thu, 06 Mar 2025   Prob (F-statistic):           1.84e-08\n",
       "Time:                        08:55:43   Log-Likelihood:                -190.42\n",
       "No. Observations:                  45   AIC:                             384.8\n",
       "Df Residuals:                      43   BIC:                             388.5\n",
       "Df Model:                           1                                         \n",
       "Covariance Type:            nonrobust                                         \n",
       "==============================================================================\n",
       "                 coef    std err          t      P>|t|      [0.025      0.975]\n",
       "------------------------------------------------------------------------------\n",
       "const         10.6035      5.198      2.040      0.048       0.120      21.087\n",
       "education      0.5949      0.086      6.893      0.000       0.421       0.769\n",
       "==============================================================================\n",
       "Omnibus:                        9.841   Durbin-Watson:                   1.736\n",
       "Prob(Omnibus):                  0.007   Jarque-Bera (JB):               10.609\n",
       "Skew:                           0.776   Prob(JB):                      0.00497\n",
       "Kurtosis:                       4.802   Cond. No.                         123.\n",
       "==============================================================================\n",
       "\n",
       "Notes:\n",
       "[1] Standard Errors assume that the covariance matrix of the errors is correctly specified.\n",
       "\"\"\""
      ]
     },
     "execution_count": 6,
     "metadata": {},
     "output_type": "execute_result"
    }
   ],
   "source": [
    "results.summary()"
   ]
  },
  {
   "cell_type": "markdown",
   "id": "e2717e3f-27c9-4907-844f-c6d4b67fe7d0",
   "metadata": {},
   "source": [
    "We are going to explain all of these outputs: what they mean, how they can be used and ... how they can be computed. "
   ]
  },
  {
   "cell_type": "markdown",
   "id": "20b27786-4f53-4b82-863e-9b8b2591dc84",
   "metadata": {},
   "source": [
    "### Exercise 2: Linear model output"
   ]
  },
  {
   "cell_type": "markdown",
   "id": "c156b24f-e0fd-4014-a0d1-f809848c48a2",
   "metadata": {},
   "source": [
    "Use what has been presented in class in order to compute the outputs of the linear regression models. \n",
    "Focus only on the one that have been presented in class, you can focus on:\n",
    "\n",
    "- parameters estimation: values, standard errors, t-values and p-values.\n",
    "- quality of the model: F-statistic, R-squared and Adj. R-squared."
   ]
  },
  {
   "cell_type": "markdown",
   "id": "cbe9f56c-88ad-4754-bd05-df3e018ac4f4",
   "metadata": {},
   "source": [
    "### Exercise 3: Multiple linear model"
   ]
  },
  {
   "cell_type": "markdown",
   "id": "b20ac54f-a0c6-4235-b9f8-b83c73869d3c",
   "metadata": {},
   "source": [
    "Now we aim to repeat the same exercise as in Exercise 2 but using the two variables *education* and *prestige* in order to predcit the *income*, *i.e.*, working with a multiple linear model. \n",
    "\n",
    "Compare this multiple linear model, with the simple linear model. Can you say that this model is better? Are the variables important for the prediction? Write your observations and conclusion. \n",
    "\n",
    "You can use the above code to conduct your analysis and the small script below in order to prepare your dataset. "
   ]
  },
  {
   "cell_type": "code",
   "execution_count": 10,
   "id": "433ffb09-074c-4855-be41-501f824fd960",
   "metadata": {
    "scrolled": true
   },
   "outputs": [
    {
     "data": {
      "text/html": [
       "<table class=\"simpletable\">\n",
       "<caption>OLS Regression Results</caption>\n",
       "<tr>\n",
       "  <th>Dep. Variable:</th>         <td>income</td>      <th>  R-squared:         </th> <td>   0.702</td>\n",
       "</tr>\n",
       "<tr>\n",
       "  <th>Model:</th>                   <td>OLS</td>       <th>  Adj. R-squared:    </th> <td>   0.688</td>\n",
       "</tr>\n",
       "<tr>\n",
       "  <th>Method:</th>             <td>Least Squares</td>  <th>  F-statistic:       </th> <td>   49.55</td>\n",
       "</tr>\n",
       "<tr>\n",
       "  <th>Date:</th>             <td>Thu, 06 Mar 2025</td> <th>  Prob (F-statistic):</th> <td>8.88e-12</td>\n",
       "</tr>\n",
       "<tr>\n",
       "  <th>Time:</th>                 <td>08:58:51</td>     <th>  Log-Likelihood:    </th> <td> -179.90</td>\n",
       "</tr>\n",
       "<tr>\n",
       "  <th>No. Observations:</th>      <td>    45</td>      <th>  AIC:               </th> <td>   365.8</td>\n",
       "</tr>\n",
       "<tr>\n",
       "  <th>Df Residuals:</th>          <td>    42</td>      <th>  BIC:               </th> <td>   371.2</td>\n",
       "</tr>\n",
       "<tr>\n",
       "  <th>Df Model:</th>              <td>     2</td>      <th>                     </th>     <td> </td>   \n",
       "</tr>\n",
       "<tr>\n",
       "  <th>Covariance Type:</th>      <td>nonrobust</td>    <th>                     </th>     <td> </td>   \n",
       "</tr>\n",
       "</table>\n",
       "<table class=\"simpletable\">\n",
       "<tr>\n",
       "      <td></td>         <th>coef</th>     <th>std err</th>      <th>t</th>      <th>P>|t|</th>  <th>[0.025</th>    <th>0.975]</th>  \n",
       "</tr>\n",
       "<tr>\n",
       "  <th>const</th>     <td>   10.4264</td> <td>    4.164</td> <td>    2.504</td> <td> 0.016</td> <td>    2.024</td> <td>   18.829</td>\n",
       "</tr>\n",
       "<tr>\n",
       "  <th>education</th> <td>    0.0323</td> <td>    0.132</td> <td>    0.244</td> <td> 0.808</td> <td>   -0.234</td> <td>    0.299</td>\n",
       "</tr>\n",
       "<tr>\n",
       "  <th>prestige</th>  <td>    0.6237</td> <td>    0.125</td> <td>    5.003</td> <td> 0.000</td> <td>    0.372</td> <td>    0.875</td>\n",
       "</tr>\n",
       "</table>\n",
       "<table class=\"simpletable\">\n",
       "<tr>\n",
       "  <th>Omnibus:</th>       <td> 9.200</td> <th>  Durbin-Watson:     </th> <td>   2.053</td>\n",
       "</tr>\n",
       "<tr>\n",
       "  <th>Prob(Omnibus):</th> <td> 0.010</td> <th>  Jarque-Bera (JB):  </th> <td>  21.265</td>\n",
       "</tr>\n",
       "<tr>\n",
       "  <th>Skew:</th>          <td> 0.075</td> <th>  Prob(JB):          </th> <td>2.41e-05</td>\n",
       "</tr>\n",
       "<tr>\n",
       "  <th>Kurtosis:</th>      <td> 6.364</td> <th>  Cond. No.          </th> <td>    168.</td>\n",
       "</tr>\n",
       "</table><br/><br/>Notes:<br/>[1] Standard Errors assume that the covariance matrix of the errors is correctly specified."
      ],
      "text/latex": [
       "\\begin{center}\n",
       "\\begin{tabular}{lclc}\n",
       "\\toprule\n",
       "\\textbf{Dep. Variable:}    &      income      & \\textbf{  R-squared:         } &     0.702   \\\\\n",
       "\\textbf{Model:}            &       OLS        & \\textbf{  Adj. R-squared:    } &     0.688   \\\\\n",
       "\\textbf{Method:}           &  Least Squares   & \\textbf{  F-statistic:       } &     49.55   \\\\\n",
       "\\textbf{Date:}             & Thu, 06 Mar 2025 & \\textbf{  Prob (F-statistic):} &  8.88e-12   \\\\\n",
       "\\textbf{Time:}             &     08:58:51     & \\textbf{  Log-Likelihood:    } &   -179.90   \\\\\n",
       "\\textbf{No. Observations:} &          45      & \\textbf{  AIC:               } &     365.8   \\\\\n",
       "\\textbf{Df Residuals:}     &          42      & \\textbf{  BIC:               } &     371.2   \\\\\n",
       "\\textbf{Df Model:}         &           2      & \\textbf{                     } &             \\\\\n",
       "\\textbf{Covariance Type:}  &    nonrobust     & \\textbf{                     } &             \\\\\n",
       "\\bottomrule\n",
       "\\end{tabular}\n",
       "\\begin{tabular}{lcccccc}\n",
       "                   & \\textbf{coef} & \\textbf{std err} & \\textbf{t} & \\textbf{P$> |$t$|$} & \\textbf{[0.025} & \\textbf{0.975]}  \\\\\n",
       "\\midrule\n",
       "\\textbf{const}     &      10.4264  &        4.164     &     2.504  &         0.016        &        2.024    &       18.829     \\\\\n",
       "\\textbf{education} &       0.0323  &        0.132     &     0.244  &         0.808        &       -0.234    &        0.299     \\\\\n",
       "\\textbf{prestige}  &       0.6237  &        0.125     &     5.003  &         0.000        &        0.372    &        0.875     \\\\\n",
       "\\bottomrule\n",
       "\\end{tabular}\n",
       "\\begin{tabular}{lclc}\n",
       "\\textbf{Omnibus:}       &  9.200 & \\textbf{  Durbin-Watson:     } &    2.053  \\\\\n",
       "\\textbf{Prob(Omnibus):} &  0.010 & \\textbf{  Jarque-Bera (JB):  } &   21.265  \\\\\n",
       "\\textbf{Skew:}          &  0.075 & \\textbf{  Prob(JB):          } & 2.41e-05  \\\\\n",
       "\\textbf{Kurtosis:}      &  6.364 & \\textbf{  Cond. No.          } &     168.  \\\\\n",
       "\\bottomrule\n",
       "\\end{tabular}\n",
       "%\\caption{OLS Regression Results}\n",
       "\\end{center}\n",
       "\n",
       "Notes: \\newline\n",
       " [1] Standard Errors assume that the covariance matrix of the errors is correctly specified."
      ],
      "text/plain": [
       "<class 'statsmodels.iolib.summary.Summary'>\n",
       "\"\"\"\n",
       "                            OLS Regression Results                            \n",
       "==============================================================================\n",
       "Dep. Variable:                 income   R-squared:                       0.702\n",
       "Model:                            OLS   Adj. R-squared:                  0.688\n",
       "Method:                 Least Squares   F-statistic:                     49.55\n",
       "Date:                Thu, 06 Mar 2025   Prob (F-statistic):           8.88e-12\n",
       "Time:                        08:58:51   Log-Likelihood:                -179.90\n",
       "No. Observations:                  45   AIC:                             365.8\n",
       "Df Residuals:                      42   BIC:                             371.2\n",
       "Df Model:                           2                                         \n",
       "Covariance Type:            nonrobust                                         \n",
       "==============================================================================\n",
       "                 coef    std err          t      P>|t|      [0.025      0.975]\n",
       "------------------------------------------------------------------------------\n",
       "const         10.4264      4.164      2.504      0.016       2.024      18.829\n",
       "education      0.0323      0.132      0.244      0.808      -0.234       0.299\n",
       "prestige       0.6237      0.125      5.003      0.000       0.372       0.875\n",
       "==============================================================================\n",
       "Omnibus:                        9.200   Durbin-Watson:                   2.053\n",
       "Prob(Omnibus):                  0.010   Jarque-Bera (JB):               21.265\n",
       "Skew:                           0.075   Prob(JB):                     2.41e-05\n",
       "Kurtosis:                       6.364   Cond. No.                         168.\n",
       "==============================================================================\n",
       "\n",
       "Notes:\n",
       "[1] Standard Errors assume that the covariance matrix of the errors is correctly specified.\n",
       "\"\"\""
      ]
     },
     "execution_count": 10,
     "metadata": {},
     "output_type": "execute_result"
    }
   ],
   "source": [
    "df = sm.datasets.get_rdataset('Duncan', 'carData').data\n",
    "y = df['income']\n",
    "x = df[['education','prestige']]\n",
    "\n",
    "model = sm.OLS(y, sm.add_constant(x))\n",
    "results = model.fit()\n",
    "\n",
    "results.summary()"
   ]
  },
  {
   "cell_type": "markdown",
   "id": "373abfdb-bf58-4049-b98c-08113b3e2a30",
   "metadata": {},
   "source": [
    "We can see, using this new dataset, that the variable is no more important, we observe a p-value which is close to 0.8. However, this time, the variable prestige is significant, we observe a p-value very close to 0.\n",
    "\n",
    "When it comes to the quality of the model, we can see that, in terms of Adjusted $R^2$, the model with these two variables can look more significant than the model with the variable education only. \n",
    "\n",
    "Also, since the variable education has been shown to be non significant, it can also be interesting to study the quality of the model when we do not use it as an independent variable."
   ]
  },
  {
   "cell_type": "code",
   "execution_count": 22,
   "id": "08d270ac-add4-4862-b56e-1b35c0fa9414",
   "metadata": {
    "scrolled": true
   },
   "outputs": [
    {
     "data": {
      "text/html": [
       "<table class=\"simpletable\">\n",
       "<caption>OLS Regression Results</caption>\n",
       "<tr>\n",
       "  <th>Dep. Variable:</th>         <td>income</td>      <th>  R-squared:         </th> <td>   0.702</td>\n",
       "</tr>\n",
       "<tr>\n",
       "  <th>Model:</th>                   <td>OLS</td>       <th>  Adj. R-squared:    </th> <td>   0.695</td>\n",
       "</tr>\n",
       "<tr>\n",
       "  <th>Method:</th>             <td>Least Squares</td>  <th>  F-statistic:       </th> <td>   101.3</td>\n",
       "</tr>\n",
       "<tr>\n",
       "  <th>Date:</th>             <td>Thu, 06 Mar 2025</td> <th>  Prob (F-statistic):</th> <td>7.14e-13</td>\n",
       "</tr>\n",
       "<tr>\n",
       "  <th>Time:</th>                 <td>09:32:56</td>     <th>  Log-Likelihood:    </th> <td> -179.93</td>\n",
       "</tr>\n",
       "<tr>\n",
       "  <th>No. Observations:</th>      <td>    45</td>      <th>  AIC:               </th> <td>   363.9</td>\n",
       "</tr>\n",
       "<tr>\n",
       "  <th>Df Residuals:</th>          <td>    43</td>      <th>  BIC:               </th> <td>   367.5</td>\n",
       "</tr>\n",
       "<tr>\n",
       "  <th>Df Model:</th>              <td>     1</td>      <th>                     </th>     <td> </td>   \n",
       "</tr>\n",
       "<tr>\n",
       "  <th>Covariance Type:</th>      <td>nonrobust</td>    <th>                     </th>     <td> </td>   \n",
       "</tr>\n",
       "</table>\n",
       "<table class=\"simpletable\">\n",
       "<tr>\n",
       "      <td></td>        <th>coef</th>     <th>std err</th>      <th>t</th>      <th>P>|t|</th>  <th>[0.025</th>    <th>0.975]</th>  \n",
       "</tr>\n",
       "<tr>\n",
       "  <th>const</th>    <td>   10.8840</td> <td>    3.678</td> <td>    2.959</td> <td> 0.005</td> <td>    3.467</td> <td>   18.301</td>\n",
       "</tr>\n",
       "<tr>\n",
       "  <th>prestige</th> <td>    0.6497</td> <td>    0.065</td> <td>   10.062</td> <td> 0.000</td> <td>    0.519</td> <td>    0.780</td>\n",
       "</tr>\n",
       "</table>\n",
       "<table class=\"simpletable\">\n",
       "<tr>\n",
       "  <th>Omnibus:</th>       <td> 8.893</td> <th>  Durbin-Watson:     </th> <td>   2.048</td>\n",
       "</tr>\n",
       "<tr>\n",
       "  <th>Prob(Omnibus):</th> <td> 0.012</td> <th>  Jarque-Bera (JB):  </th> <td>  19.848</td>\n",
       "</tr>\n",
       "<tr>\n",
       "  <th>Skew:</th>          <td> 0.047</td> <th>  Prob(JB):          </th> <td>4.90e-05</td>\n",
       "</tr>\n",
       "<tr>\n",
       "  <th>Kurtosis:</th>      <td> 6.252</td> <th>  Cond. No.          </th> <td>    104.</td>\n",
       "</tr>\n",
       "</table><br/><br/>Notes:<br/>[1] Standard Errors assume that the covariance matrix of the errors is correctly specified."
      ],
      "text/latex": [
       "\\begin{center}\n",
       "\\begin{tabular}{lclc}\n",
       "\\toprule\n",
       "\\textbf{Dep. Variable:}    &      income      & \\textbf{  R-squared:         } &     0.702   \\\\\n",
       "\\textbf{Model:}            &       OLS        & \\textbf{  Adj. R-squared:    } &     0.695   \\\\\n",
       "\\textbf{Method:}           &  Least Squares   & \\textbf{  F-statistic:       } &     101.3   \\\\\n",
       "\\textbf{Date:}             & Thu, 06 Mar 2025 & \\textbf{  Prob (F-statistic):} &  7.14e-13   \\\\\n",
       "\\textbf{Time:}             &     09:32:56     & \\textbf{  Log-Likelihood:    } &   -179.93   \\\\\n",
       "\\textbf{No. Observations:} &          45      & \\textbf{  AIC:               } &     363.9   \\\\\n",
       "\\textbf{Df Residuals:}     &          43      & \\textbf{  BIC:               } &     367.5   \\\\\n",
       "\\textbf{Df Model:}         &           1      & \\textbf{                     } &             \\\\\n",
       "\\textbf{Covariance Type:}  &    nonrobust     & \\textbf{                     } &             \\\\\n",
       "\\bottomrule\n",
       "\\end{tabular}\n",
       "\\begin{tabular}{lcccccc}\n",
       "                  & \\textbf{coef} & \\textbf{std err} & \\textbf{t} & \\textbf{P$> |$t$|$} & \\textbf{[0.025} & \\textbf{0.975]}  \\\\\n",
       "\\midrule\n",
       "\\textbf{const}    &      10.8840  &        3.678     &     2.959  &         0.005        &        3.467    &       18.301     \\\\\n",
       "\\textbf{prestige} &       0.6497  &        0.065     &    10.062  &         0.000        &        0.519    &        0.780     \\\\\n",
       "\\bottomrule\n",
       "\\end{tabular}\n",
       "\\begin{tabular}{lclc}\n",
       "\\textbf{Omnibus:}       &  8.893 & \\textbf{  Durbin-Watson:     } &    2.048  \\\\\n",
       "\\textbf{Prob(Omnibus):} &  0.012 & \\textbf{  Jarque-Bera (JB):  } &   19.848  \\\\\n",
       "\\textbf{Skew:}          &  0.047 & \\textbf{  Prob(JB):          } & 4.90e-05  \\\\\n",
       "\\textbf{Kurtosis:}      &  6.252 & \\textbf{  Cond. No.          } &     104.  \\\\\n",
       "\\bottomrule\n",
       "\\end{tabular}\n",
       "%\\caption{OLS Regression Results}\n",
       "\\end{center}\n",
       "\n",
       "Notes: \\newline\n",
       " [1] Standard Errors assume that the covariance matrix of the errors is correctly specified."
      ],
      "text/plain": [
       "<class 'statsmodels.iolib.summary.Summary'>\n",
       "\"\"\"\n",
       "                            OLS Regression Results                            \n",
       "==============================================================================\n",
       "Dep. Variable:                 income   R-squared:                       0.702\n",
       "Model:                            OLS   Adj. R-squared:                  0.695\n",
       "Method:                 Least Squares   F-statistic:                     101.3\n",
       "Date:                Thu, 06 Mar 2025   Prob (F-statistic):           7.14e-13\n",
       "Time:                        09:32:56   Log-Likelihood:                -179.93\n",
       "No. Observations:                  45   AIC:                             363.9\n",
       "Df Residuals:                      43   BIC:                             367.5\n",
       "Df Model:                           1                                         \n",
       "Covariance Type:            nonrobust                                         \n",
       "==============================================================================\n",
       "                 coef    std err          t      P>|t|      [0.025      0.975]\n",
       "------------------------------------------------------------------------------\n",
       "const         10.8840      3.678      2.959      0.005       3.467      18.301\n",
       "prestige       0.6497      0.065     10.062      0.000       0.519       0.780\n",
       "==============================================================================\n",
       "Omnibus:                        8.893   Durbin-Watson:                   2.048\n",
       "Prob(Omnibus):                  0.012   Jarque-Bera (JB):               19.848\n",
       "Skew:                           0.047   Prob(JB):                     4.90e-05\n",
       "Kurtosis:                       6.252   Cond. No.                         104.\n",
       "==============================================================================\n",
       "\n",
       "Notes:\n",
       "[1] Standard Errors assume that the covariance matrix of the errors is correctly specified.\n",
       "\"\"\""
      ]
     },
     "execution_count": 22,
     "metadata": {},
     "output_type": "execute_result"
    }
   ],
   "source": [
    "df = sm.datasets.get_rdataset('Duncan', 'carData').data\n",
    "y = df['income']\n",
    "x = df['prestige']\n",
    "\n",
    "model = sm.OLS(y, sm.add_constant(x))\n",
    "results = model.fit()\n",
    "\n",
    "results.summary()"
   ]
  },
  {
   "cell_type": "markdown",
   "id": "30d29064-2159-4117-ad61-20091f6ac002",
   "metadata": {},
   "source": [
    "As we expected, the variable \"education\" was not significant, meaning it had no impact on the quality of the model and could therefore be removed without affecting its performance."
   ]
  },
  {
   "cell_type": "markdown",
   "id": "b4a58c38-df0e-4c23-9488-2834aa6b1b87",
   "metadata": {},
   "source": [
    "## 4. Residual Analysis"
   ]
  },
  {
   "cell_type": "markdown",
   "id": "54524763-1884-4197-80d8-e149e7338831",
   "metadata": {},
   "source": [
    "The aim of this part is to study the residuals of our model in order to check if the assumptions linked to the linear gaussian model are fulfilled. \n",
    "We need to check if\n",
    "\n",
    "\n",
    "- if the residuals are normally distributed\n",
    "- if they are indepdendent \n",
    "- the homoscedasticity assumption (*i.e.*, equal variances)\n",
    "\n"
   ]
  },
  {
   "cell_type": "code",
   "execution_count": 20,
   "id": "40c4badc-514d-46bf-8829-355e1373e8d1",
   "metadata": {},
   "outputs": [],
   "source": [
    "# We first import another library that will be useful to draw an histogram and perform a statistical assumption\n",
    "\n",
    "import seaborn as sns\n",
    "from scipy.stats import shapiro\n",
    "from yellowbrick.regressor import ResidualsPlot"
   ]
  },
  {
   "cell_type": "markdown",
   "id": "0ed1228e-7d61-48a2-b7c7-2cabd9a6e978",
   "metadata": {},
   "source": [
    "### 4.1 Focus on the normality assumption\n",
    "\n",
    "We first study if the residuals are normally distributed."
   ]
  },
  {
   "cell_type": "code",
   "execution_count": 27,
   "id": "ddb5dd2d-ed7e-4de9-8860-a04c7a5a59ac",
   "metadata": {},
   "outputs": [
    {
     "data": {
      "image/png": "[encoded data removed]",
      "text/plain": [
       "<Figure size 1000x500 with 1 Axes>"
      ]
     },
     "metadata": {},
     "output_type": "display_data"
    },
    {
     "data": {
      "image/png": "[encoded data removed]",
      "text/plain": [
       "<Figure size 800x550 with 1 Axes>"
      ]
     },
     "metadata": {},
     "output_type": "display_data"
    },
    {
     "name": "stdout",
     "output_type": "stream",
     "text": [
      "Test de Shapiro-Wilk : p-value = 0.000745003475006071\n",
      "Residuals are not normally distributed (we reject H0).\n"
     ]
    }
   ],
   "source": [
    "# Compute the residuals\n",
    "residuals = results.resid\n",
    "\n",
    "# We can first draw a little histogram to check the normality assumption\n",
    "plt.figure(figsize=(10, 5))\n",
    "sns.histplot(residuals, bins=30, kde=True)\n",
    "plt.axvline(x=0, color='red', linestyle='dashed')\n",
    "plt.title(\"Residuals histogram\")\n",
    "plt.xlabel(\"Residuals\")\n",
    "plt.ylabel(\"Frequency\")\n",
    "plt.show()\n",
    "\n",
    "\n",
    "# Q-Q plot (Quantile-Quantile plot)\n",
    "sm.qqplot(residuals, line='45', fit = True)\n",
    "plt.title(\"Residuals Q-Q plot \")\n",
    "plt.show()\n",
    "\n",
    "# Test de normalité des résidus (Shapiro-Wilk)\n",
    "stat, p_value = shapiro(residuals)\n",
    "print(f\"Test de Shapiro-Wilk : p-value = {p_value}\")\n",
    "if p_value > 0.05:\n",
    "    print(\"Residuals are normally distributed (we do not reject H0).\")\n",
    "else:\n",
    "    print(\"Residuals are not normally distributed (we reject H0).\")\n"
   ]
  },
  {
   "cell_type": "markdown",
   "id": "58695e09-fa60-4293-a8ec-fc3361d40c28",
   "metadata": {},
   "source": [
    "If have a look at the residuals, even if the number of instances is quite low, we are far from being normally distributed.\n",
    "Thus it means that there is a problem with the current model and that there is maybe to linear relationship between the studided X and Y in our dataset.\n",
    "However, we have to be carefull in this situation since the number of points is very low. "
   ]
  },
  {
   "cell_type": "markdown",
   "id": "e04c9500-d375-4520-b22c-b278abd104cb",
   "metadata": {},
   "source": [
    "### 4.2 Homoscedasticity \n",
    "\n",
    "The residuals can be extracted from the results.outlier_test object. As presented in class, to conduct this study, we need to comptue the studentized residuals. But this is automatically done using the following line of code."
   ]
  },
  {
   "cell_type": "code",
   "execution_count": 35,
   "id": "197c1dd7-4ba6-48b0-a593-bad430c96eb4",
   "metadata": {},
   "outputs": [],
   "source": [
    "# Compute studentized residuals\n",
    "\n",
    "stud_res = results.outlier_test().student_resid"
   ]
  },
  {
   "cell_type": "code",
   "execution_count": 36,
   "id": "47949381-437a-479c-bc1b-35beb1f41693",
   "metadata": {},
   "outputs": [
    {
     "data": {
      "image/png": "[encoded data removed]",
      "text/plain": [
       "<Figure size 1000x500 with 1 Axes>"
      ]
     },
     "metadata": {},
     "output_type": "display_data"
    }
   ],
   "source": [
    "# Graph Residuals vs fitted values\n",
    "\n",
    "fitted_values = results.fittedvalues\n",
    "plt.figure(figsize=(10, 5))\n",
    "sns.scatterplot(x=fitted_values, y=stud_res)\n",
    "plt.axhline(y=0, color='red', linestyle='dashed')\n",
    "plt.title(\"Residuals vs Fitted Values\")\n",
    "plt.xlabel(\"Fitted Values\")\n",
    "plt.ylabel(\"Residuals\")\n",
    "plt.show()\n",
    "\n"
   ]
  },
  {
   "cell_type": "markdown",
   "id": "c7bb222b-cf24-497b-be18-83d8f4ea62d3",
   "metadata": {},
   "source": [
    "Since there is no particular pattern in the residuals, we can say that the homoscedasticity assumption is fulfilled. "
   ]
  },
  {
   "cell_type": "markdown",
   "id": "1a321c96-a67f-4162-a694-b3c5258a73ac",
   "metadata": {},
   "source": [
    "If everything is fine, approximately 95% of the residuals shall be in the range $[-2,2]$. The points that are usually outside this range can be considered as outliers aand removed from the dataset. But we do not focus on that point here.\n",
    "Since there is no particular pattern in the residuals also, we can consider them as independent also."
   ]
  },
  {
   "cell_type": "markdown",
   "id": "c0580982-6fc8-4f1d-8cf7-7ec929062f6a",
   "metadata": {},
   "source": [
    "### Exercise 4: \n",
    "\n",
    "This dataset contains information collected by the U.S Census Service concerning housing in the area of California Mass.\n",
    "In this dataset, we aim to predict the value of the variable MedHouseVal using all the other features/variables."
   ]
  },
  {
   "cell_type": "code",
   "execution_count": 207,
   "id": "568ff7c7-060f-4e86-9806-58fc9ee7a95b",
   "metadata": {},
   "outputs": [],
   "source": [
    "from sklearn.datasets import fetch_california_housing\n",
    "import pandas as pd\n",
    "\n",
    "df = fetch_california_housing()\n",
    "\n",
    "y = df.target\n",
    "x = df.data\n",
    "\n",
    "df_new_y = pd.DataFrame(y,columns=[df.target_names])\n",
    "df_new_x = pd.DataFrame(x,columns=[df.feature_names])\n",
    "df_new = pd.concat([df_new_y,df_new_x], axis= 1)"
   ]
  },
  {
   "cell_type": "markdown",
   "id": "19aebc49-729a-43d3-8157-f834f77df798",
   "metadata": {},
   "source": [
    "Now we can run the linear regression of the model"
   ]
  },
  {
   "cell_type": "code",
   "execution_count": 194,
   "id": "45067b7f-06bd-4da7-9c58-a1b1e47430f3",
   "metadata": {},
   "outputs": [
    {
     "data": {
      "text/html": [
       "<table class=\"simpletable\">\n",
       "<caption>OLS Regression Results</caption>\n",
       "<tr>\n",
       "  <th>Dep. Variable:</th>       <td>MedHouseVal</td>   <th>  R-squared:         </th> <td>   0.606</td> \n",
       "</tr>\n",
       "<tr>\n",
       "  <th>Model:</th>                   <td>OLS</td>       <th>  Adj. R-squared:    </th> <td>   0.606</td> \n",
       "</tr>\n",
       "<tr>\n",
       "  <th>Method:</th>             <td>Least Squares</td>  <th>  F-statistic:       </th> <td>   3970.</td> \n",
       "</tr>\n",
       "<tr>\n",
       "  <th>Date:</th>             <td>Thu, 06 Mar 2025</td> <th>  Prob (F-statistic):</th>  <td>  0.00</td>  \n",
       "</tr>\n",
       "<tr>\n",
       "  <th>Time:</th>                 <td>11:18:12</td>     <th>  Log-Likelihood:    </th> <td> -22624.</td> \n",
       "</tr>\n",
       "<tr>\n",
       "  <th>No. Observations:</th>      <td> 20640</td>      <th>  AIC:               </th> <td>4.527e+04</td>\n",
       "</tr>\n",
       "<tr>\n",
       "  <th>Df Residuals:</th>          <td> 20631</td>      <th>  BIC:               </th> <td>4.534e+04</td>\n",
       "</tr>\n",
       "<tr>\n",
       "  <th>Df Model:</th>              <td>     8</td>      <th>                     </th>     <td> </td>    \n",
       "</tr>\n",
       "<tr>\n",
       "  <th>Covariance Type:</th>      <td>nonrobust</td>    <th>                     </th>     <td> </td>    \n",
       "</tr>\n",
       "</table>\n",
       "<table class=\"simpletable\">\n",
       "<tr>\n",
       "       <td></td>         <th>coef</th>     <th>std err</th>      <th>t</th>      <th>P>|t|</th>  <th>[0.025</th>    <th>0.975]</th>  \n",
       "</tr>\n",
       "<tr>\n",
       "  <th>Intercept</th>  <td>  -36.9419</td> <td>    0.659</td> <td>  -56.067</td> <td> 0.000</td> <td>  -38.233</td> <td>  -35.650</td>\n",
       "</tr>\n",
       "<tr>\n",
       "  <th>MedInc</th>     <td>    0.4367</td> <td>    0.004</td> <td>  104.054</td> <td> 0.000</td> <td>    0.428</td> <td>    0.445</td>\n",
       "</tr>\n",
       "<tr>\n",
       "  <th>HouseAge</th>   <td>    0.0094</td> <td>    0.000</td> <td>   21.143</td> <td> 0.000</td> <td>    0.009</td> <td>    0.010</td>\n",
       "</tr>\n",
       "<tr>\n",
       "  <th>AveRooms</th>   <td>   -0.1073</td> <td>    0.006</td> <td>  -18.235</td> <td> 0.000</td> <td>   -0.119</td> <td>   -0.096</td>\n",
       "</tr>\n",
       "<tr>\n",
       "  <th>AveBedrms</th>  <td>    0.6451</td> <td>    0.028</td> <td>   22.928</td> <td> 0.000</td> <td>    0.590</td> <td>    0.700</td>\n",
       "</tr>\n",
       "<tr>\n",
       "  <th>Population</th> <td>-3.976e-06</td> <td> 4.75e-06</td> <td>   -0.837</td> <td> 0.402</td> <td>-1.33e-05</td> <td> 5.33e-06</td>\n",
       "</tr>\n",
       "<tr>\n",
       "  <th>AveOccup</th>   <td>   -0.0038</td> <td>    0.000</td> <td>   -7.769</td> <td> 0.000</td> <td>   -0.005</td> <td>   -0.003</td>\n",
       "</tr>\n",
       "<tr>\n",
       "  <th>Latitude</th>   <td>   -0.4213</td> <td>    0.007</td> <td>  -58.541</td> <td> 0.000</td> <td>   -0.435</td> <td>   -0.407</td>\n",
       "</tr>\n",
       "<tr>\n",
       "  <th>Longitude</th>  <td>   -0.4345</td> <td>    0.008</td> <td>  -57.682</td> <td> 0.000</td> <td>   -0.449</td> <td>   -0.420</td>\n",
       "</tr>\n",
       "</table>\n",
       "<table class=\"simpletable\">\n",
       "<tr>\n",
       "  <th>Omnibus:</th>       <td>4393.650</td> <th>  Durbin-Watson:     </th> <td>   0.885</td> \n",
       "</tr>\n",
       "<tr>\n",
       "  <th>Prob(Omnibus):</th>  <td> 0.000</td>  <th>  Jarque-Bera (JB):  </th> <td>14087.596</td>\n",
       "</tr>\n",
       "<tr>\n",
       "  <th>Skew:</th>           <td> 1.082</td>  <th>  Prob(JB):          </th> <td>    0.00</td> \n",
       "</tr>\n",
       "<tr>\n",
       "  <th>Kurtosis:</th>       <td> 6.420</td>  <th>  Cond. No.          </th> <td>2.38e+05</td> \n",
       "</tr>\n",
       "</table><br/><br/>Notes:<br/>[1] Standard Errors assume that the covariance matrix of the errors is correctly specified.<br/>[2] The condition number is large, 2.38e+05. This might indicate that there are<br/>strong multicollinearity or other numerical problems."
      ],
      "text/latex": [
       "\\begin{center}\n",
       "\\begin{tabular}{lclc}\n",
       "\\toprule\n",
       "\\textbf{Dep. Variable:}    &   MedHouseVal    & \\textbf{  R-squared:         } &     0.606   \\\\\n",
       "\\textbf{Model:}            &       OLS        & \\textbf{  Adj. R-squared:    } &     0.606   \\\\\n",
       "\\textbf{Method:}           &  Least Squares   & \\textbf{  F-statistic:       } &     3970.   \\\\\n",
       "\\textbf{Date:}             & Thu, 06 Mar 2025 & \\textbf{  Prob (F-statistic):} &     0.00    \\\\\n",
       "\\textbf{Time:}             &     11:18:12     & \\textbf{  Log-Likelihood:    } &   -22624.   \\\\\n",
       "\\textbf{No. Observations:} &       20640      & \\textbf{  AIC:               } & 4.527e+04   \\\\\n",
       "\\textbf{Df Residuals:}     &       20631      & \\textbf{  BIC:               } & 4.534e+04   \\\\\n",
       "\\textbf{Df Model:}         &           8      & \\textbf{                     } &             \\\\\n",
       "\\textbf{Covariance Type:}  &    nonrobust     & \\textbf{                     } &             \\\\\n",
       "\\bottomrule\n",
       "\\end{tabular}\n",
       "\\begin{tabular}{lcccccc}\n",
       "                    & \\textbf{coef} & \\textbf{std err} & \\textbf{t} & \\textbf{P$> |$t$|$} & \\textbf{[0.025} & \\textbf{0.975]}  \\\\\n",
       "\\midrule\n",
       "\\textbf{Intercept}  &     -36.9419  &        0.659     &   -56.067  &         0.000        &      -38.233    &      -35.650     \\\\\n",
       "\\textbf{MedInc}     &       0.4367  &        0.004     &   104.054  &         0.000        &        0.428    &        0.445     \\\\\n",
       "\\textbf{HouseAge}   &       0.0094  &        0.000     &    21.143  &         0.000        &        0.009    &        0.010     \\\\\n",
       "\\textbf{AveRooms}   &      -0.1073  &        0.006     &   -18.235  &         0.000        &       -0.119    &       -0.096     \\\\\n",
       "\\textbf{AveBedrms}  &       0.6451  &        0.028     &    22.928  &         0.000        &        0.590    &        0.700     \\\\\n",
       "\\textbf{Population} &   -3.976e-06  &     4.75e-06     &    -0.837  &         0.402        &    -1.33e-05    &     5.33e-06     \\\\\n",
       "\\textbf{AveOccup}   &      -0.0038  &        0.000     &    -7.769  &         0.000        &       -0.005    &       -0.003     \\\\\n",
       "\\textbf{Latitude}   &      -0.4213  &        0.007     &   -58.541  &         0.000        &       -0.435    &       -0.407     \\\\\n",
       "\\textbf{Longitude}  &      -0.4345  &        0.008     &   -57.682  &         0.000        &       -0.449    &       -0.420     \\\\\n",
       "\\bottomrule\n",
       "\\end{tabular}\n",
       "\\begin{tabular}{lclc}\n",
       "\\textbf{Omnibus:}       & 4393.650 & \\textbf{  Durbin-Watson:     } &     0.885  \\\\\n",
       "\\textbf{Prob(Omnibus):} &   0.000  & \\textbf{  Jarque-Bera (JB):  } & 14087.596  \\\\\n",
       "\\textbf{Skew:}          &   1.082  & \\textbf{  Prob(JB):          } &      0.00  \\\\\n",
       "\\textbf{Kurtosis:}      &   6.420  & \\textbf{  Cond. No.          } &  2.38e+05  \\\\\n",
       "\\bottomrule\n",
       "\\end{tabular}\n",
       "%\\caption{OLS Regression Results}\n",
       "\\end{center}\n",
       "\n",
       "Notes: \\newline\n",
       " [1] Standard Errors assume that the covariance matrix of the errors is correctly specified. \\newline\n",
       " [2] The condition number is large, 2.38e+05. This might indicate that there are \\newline\n",
       " strong multicollinearity or other numerical problems."
      ],
      "text/plain": [
       "<class 'statsmodels.iolib.summary.Summary'>\n",
       "\"\"\"\n",
       "                            OLS Regression Results                            \n",
       "==============================================================================\n",
       "Dep. Variable:            MedHouseVal   R-squared:                       0.606\n",
       "Model:                            OLS   Adj. R-squared:                  0.606\n",
       "Method:                 Least Squares   F-statistic:                     3970.\n",
       "Date:                Thu, 06 Mar 2025   Prob (F-statistic):               0.00\n",
       "Time:                        11:18:12   Log-Likelihood:                -22624.\n",
       "No. Observations:               20640   AIC:                         4.527e+04\n",
       "Df Residuals:                   20631   BIC:                         4.534e+04\n",
       "Df Model:                           8                                         \n",
       "Covariance Type:            nonrobust                                         \n",
       "==============================================================================\n",
       "                 coef    std err          t      P>|t|      [0.025      0.975]\n",
       "------------------------------------------------------------------------------\n",
       "Intercept    -36.9419      0.659    -56.067      0.000     -38.233     -35.650\n",
       "MedInc         0.4367      0.004    104.054      0.000       0.428       0.445\n",
       "HouseAge       0.0094      0.000     21.143      0.000       0.009       0.010\n",
       "AveRooms      -0.1073      0.006    -18.235      0.000      -0.119      -0.096\n",
       "AveBedrms      0.6451      0.028     22.928      0.000       0.590       0.700\n",
       "Population -3.976e-06   4.75e-06     -0.837      0.402   -1.33e-05    5.33e-06\n",
       "AveOccup      -0.0038      0.000     -7.769      0.000      -0.005      -0.003\n",
       "Latitude      -0.4213      0.007    -58.541      0.000      -0.435      -0.407\n",
       "Longitude     -0.4345      0.008    -57.682      0.000      -0.449      -0.420\n",
       "==============================================================================\n",
       "Omnibus:                     4393.650   Durbin-Watson:                   0.885\n",
       "Prob(Omnibus):                  0.000   Jarque-Bera (JB):            14087.596\n",
       "Skew:                           1.082   Prob(JB):                         0.00\n",
       "Kurtosis:                       6.420   Cond. No.                     2.38e+05\n",
       "==============================================================================\n",
       "\n",
       "Notes:\n",
       "[1] Standard Errors assume that the covariance matrix of the errors is correctly specified.\n",
       "[2] The condition number is large, 2.38e+05. This might indicate that there are\n",
       "strong multicollinearity or other numerical problems.\n",
       "\"\"\""
      ]
     },
     "execution_count": 194,
     "metadata": {},
     "output_type": "execute_result"
    }
   ],
   "source": [
    "import statsmodels.formula.api as smf\n",
    "\n",
    "model = smf.ols(formula = 'MedHouseVal ~ MedInc + HouseAge + AveRooms + AveBedrms + Population + AveOccup +  Latitude + Longitude', \n",
    "                data = df_new)\n",
    "results = model.fit()\n",
    "results.summary()"
   ]
  },
  {
   "cell_type": "markdown",
   "id": "3c0805e5-b56d-4a02-ae3e-93676354790a",
   "metadata": {},
   "source": [
    "Study the output of the linear model and try to see what happens if you remove the unsignificant feature. "
   ]
  },
  {
   "cell_type": "code",
   "execution_count": null,
   "id": "a3ac6d49-ee85-4af5-b4e3-34f000c2051b",
   "metadata": {},
   "outputs": [],
   "source": []
  },
  {
   "cell_type": "markdown",
   "id": "7cbcf294-fa72-4ca4-b5e1-138cf8281a0b",
   "metadata": {},
   "source": [
    "# 5. Building a model"
   ]
  },
  {
   "cell_type": "markdown",
   "id": "228e95ad-32e2-4b35-b663-3c7eb9cae9a9",
   "metadata": {},
   "source": [
    "In the above output, you have seen that there is potentially strong multicollinearity among the set features used in the previous regression model. We have seen that we can detect these strong colinearities using the VIF procedure. \n",
    "\n",
    "Computing the VIF can be easilly done as follows and using the appropriate tool from the statsmodel library."
   ]
  },
  {
   "cell_type": "code",
   "execution_count": 195,
   "id": "5188d2c4-ba81-4101-9061-857628c7580f",
   "metadata": {},
   "outputs": [
    {
     "name": "stdout",
     "output_type": "stream",
     "text": [
      "      feature         VIF\n",
      "0      MedInc   11.511140\n",
      "1    HouseAge    7.195917\n",
      "2    AveRooms   45.993601\n",
      "3   AveBedrms   43.590314\n",
      "4  Population    2.935745\n",
      "5    AveOccup    1.095243\n",
      "6    Latitude  559.874071\n",
      "7   Longitude  633.711654\n"
     ]
    }
   ],
   "source": [
    "from statsmodels.stats.outliers_influence import variance_inflation_factor\n",
    "\n",
    "# VIF dataframe\n",
    "vif_data = pd.DataFrame()\n",
    "features = df.feature_names\n",
    "vif_data[\"feature\"] = features\n",
    "\n",
    "X = df.data\n",
    "\n",
    "# calculating VIF for each feature\n",
    "vif_data[\"VIF\"] = [variance_inflation_factor(X, i)\n",
    "                          for i in range(len(features))]\n",
    "\n",
    "print(vif_data)"
   ]
  },
  {
   "cell_type": "markdown",
   "id": "c66a86b0-c5c2-40b1-b448-6533380cd557",
   "metadata": {},
   "source": [
    "We can see that that several features have a VIF higher than $5$, and thus need to be removed from the dataset. However, as we have seen in class, we cannot remove them in a single round. We have to do it one by one, removing, at each round, the variable that has the highest VIF (in case there are VIF higher than $5$).\n",
    "\n",
    "In the example above, we shall remove the variable *Longitude* from the dataset and go on. We need to detect and remove it automtically."
   ]
  },
  {
   "cell_type": "code",
   "execution_count": 196,
   "id": "cdcf2c9f-6943-4d32-b219-1f82ead1d219",
   "metadata": {},
   "outputs": [
    {
     "name": "stdout",
     "output_type": "stream",
     "text": [
      "feature    4\n",
      "VIF        7\n",
      "dtype: int64\n",
      "['MedInc', 'HouseAge', 'AveRooms', 'AveBedrms', 'Population', 'AveOccup', 'Latitude']\n"
     ]
    }
   ],
   "source": [
    "# In the previous object, we need to study which row contains the highest VIF.\n",
    "\n",
    "print(vif_data.idxmax(axis=\"rows\"))\n",
    "\n",
    "# We extract the name of the associated feature and remove it from the dataset\n",
    "\n",
    "col_to_remove = vif_data.iloc[vif_data.idxmax(axis=\"rows\")['VIF']]['feature']\n",
    "features.remove(col_to_remove)\n",
    "print(features)"
   ]
  },
  {
   "cell_type": "markdown",
   "id": "3e33af50-db3e-4459-a371-46f4cd0db707",
   "metadata": {},
   "source": [
    "It remains to go on with the remaining columns until there is no more VIF higher than $5$.\n",
    "You may create a loop for that or do it manually.\n"
   ]
  },
  {
   "cell_type": "markdown",
   "id": "acf6bdca-fa10-4372-b67d-3c7f54561f5a",
   "metadata": {},
   "source": [
    "## Exercise 5"
   ]
  },
  {
   "cell_type": "markdown",
   "id": "8b39abe2-f442-4cb7-9765-f5426b4632ce",
   "metadata": {},
   "source": [
    "Conduct the same complete study to build the best regression model you can (using also the forward/backward procedure) on the dataset available online, the file is entitled *Attendance*.\n",
    "The aim is to predict the values of the attendance variable. "
   ]
  },
  {
   "cell_type": "code",
   "execution_count": null,
   "id": "a2178948-e12f-4275-82b8-108e1afaa857",
   "metadata": {},
   "outputs": [],
   "source": []
  }
 ],
 "metadata": {
  "kernelspec": {
   "display_name": "Python 3 (ipykernel)",
   "language": "python",
   "name": "python3"
  },
  "language_info": {
   "codemirror_mode": {
    "name": "ipython",
    "version": 3
   },
   "file_extension": ".py",
   "mimetype": "text/x-python",
   "name": "python",
   "nbconvert_exporter": "python",
   "pygments_lexer": "ipython3",
   "version": "3.12.4"
  }
 },
 "nbformat": 4,
 "nbformat_minor": 5
}
