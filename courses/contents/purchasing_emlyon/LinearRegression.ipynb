{
 "cells": [
  {
   "cell_type": "markdown",
   "id": "c856c2cf-494d-415f-b333-078048402e69",
   "metadata": {},
   "source": [
    "# Simple and Multiple Linear Regression with Python"
   ]
  },
  {
   "cell_type": "markdown",
   "id": "b874d320-25b0-44ec-b0e5-64b8cdae4de8",
   "metadata": {},
   "source": [
    "The aim of this fist course is to make an introduction of the linear regression model from a **Statistical** point of view. \n",
    "We are going to see, in the next courses, how we are going to study this model from a **Machine Learning** point of view, *i.e.*, given a different context.\n",
    "\n",
    "In the previous class, we have seen we can study the link between two random variables where at least one was a *qualtative* one. \n",
    "We have built some test in order to determine if the link between these two variables was significant or not. \n",
    "\n",
    "We are going a little bit further now and study the link between two (or more) quantitatives random variables. More precisely, we are going to study the relation between a random variable *Y*, which will be called the **dependent** random variable and $X_1, X_2, \\ldots, X_p$ a set of **independent** random variables.\n",
    "We aim to study if ce are able to predict the values taken by the random variable $Y$ using the set of variables $X_1, X_2, \\ldots, X_p$.\n",
    "\n",
    "For instance, this is done to predict the sales revenue in a given store ($Y$) using several information, the temperature of the day ($X_1$), the number of customers ($X_2$) you are going to have in the store (this number can be predicted by another type of model) if you are in the weekend or not ($X_3$), etc. \n",
    "\n",
    "\n"
   ]
  },
  {
   "cell_type": "markdown",
   "id": "846fb34c-7305-4bca-89c8-99bd735abae9",
   "metadata": {},
   "source": [
    "## 1. Presentation of the model"
   ]
  },
  {
   "cell_type": "markdown",
   "id": "68f36d8a-5e17-432a-ad03-c69019f14b59",
   "metadata": {},
   "source": [
    "In order to do the prediction, we are going to assume that we have linear relationship between $Y$ and $X_1, X_2, \\ldots, X_p$, *i.e.*, \n",
    "\n",
    "$$ Y = \\beta_0 + \\beta_1 X_1 + \\beta_2 X_2 + \\ldots + \\beta_p X_p + \\varepsilon$$,\n",
    "\n",
    "where \n",
    "\n",
    "- $Y$ is the dependent variable,\n",
    "- $X_j, \\; j=1, \\ldots, p $ are the dependent variable,\n",
    "- $\\beta_j, \\; j=1,\\ldots, p$ are the parameters of the model,\n",
    "- $\\varepsilon$ are random noise which represent the noise in the data/model (it means that the model we are learning is not a perfect one).\n",
    "\n",
    "Most of the time, we assume that we are working in the *Gaussian* setting, thus, we are formulating assumptions on the erros of the model:\n",
    "\n",
    "- the data $S= \\lbrace (y_i,\\bf{x}_i)\\rbrace_{i=1}^m$ are independent,\n",
    "- the noise follow a normal distribution and are independent, *i.e.*, $\\varepsilon \\underset{i.i.d.}{\\sim} \\mathcal{N}(0,\\sigma^2)$, where the variance of the model is the same for every observations.\n",
    "\n",
    "The above problem is usually written as follows, using matrices\n",
    "\n",
    "$$ Y = X\\beta + \\varepsilon$,\n",
    "\n",
    "where\n",
    "\n",
    "- $X \\in \\mathbb{R}^{m\\times (p+1)}$ is the *design* matrix,\n",
    "- $y$ is the vector of observations $y_1, \\ldots, y_p$,\n",
    "- $\\beta = (\\beta_1, \\ldots, \\beta_p) \\in \\mathbb{R}^{p+1} $ is the parameter vector.\n",
    "- $\\varepsilon = (\\varepsilon_1, \\ldots, \\varepsilon_p)\\mathbb{R}^{m} $ is the vector of random errors in the data."
   ]
  },
  {
   "cell_type": "markdown",
   "id": "992c9bb2-b388-45ef-affc-4d055660224d",
   "metadata": {},
   "source": [
    "### Example 1"
   ]
  },
  {
   "cell_type": "markdown",
   "id": "b25d116e-83c6-4498-80cd-ed2b91205cc0",
   "metadata": {},
   "source": [
    "We consider a little dataset where we aim to predict the values taken by a randim variable $Y$ given another variable $X$.\n",
    "We are going to work with the following dataset."
   ]
  },
  {
   "cell_type": "code",
   "execution_count": 48,
   "id": "0fd78ece-f43f-47ed-8368-3e1a143db636",
   "metadata": {},
   "outputs": [],
   "source": [
    "# First, we import the required package to perform a linear regression\n",
    "\n",
    "import statsmodels.api as sm\n",
    "import matplotlib.pyplot as plt"
   ]
  },
  {
   "cell_type": "code",
   "execution_count": 51,
   "id": "c2c4114e-3097-427f-9f98-f697bc57c66f",
   "metadata": {},
   "outputs": [
    {
     "data": {
      "text/html": [
       "<div>\n",
       "<style scoped>\n",
       "    .dataframe tbody tr th:only-of-type {\n",
       "        vertical-align: middle;\n",
       "    }\n",
       "\n",
       "    .dataframe tbody tr th {\n",
       "        vertical-align: top;\n",
       "    }\n",
       "\n",
       "    .dataframe thead th {\n",
       "        text-align: right;\n",
       "    }\n",
       "</style>\n",
       "<table border=\"1\" class=\"dataframe\">\n",
       "  <thead>\n",
       "    <tr style=\"text-align: right;\">\n",
       "      <th></th>\n",
       "      <th>type</th>\n",
       "      <th>income</th>\n",
       "      <th>education</th>\n",
       "      <th>prestige</th>\n",
       "    </tr>\n",
       "    <tr>\n",
       "      <th>rownames</th>\n",
       "      <th></th>\n",
       "      <th></th>\n",
       "      <th></th>\n",
       "      <th></th>\n",
       "    </tr>\n",
       "  </thead>\n",
       "  <tbody>\n",
       "    <tr>\n",
       "      <th>accountant</th>\n",
       "      <td>prof</td>\n",
       "      <td>62</td>\n",
       "      <td>86</td>\n",
       "      <td>82</td>\n",
       "    </tr>\n",
       "    <tr>\n",
       "      <th>pilot</th>\n",
       "      <td>prof</td>\n",
       "      <td>72</td>\n",
       "      <td>76</td>\n",
       "      <td>83</td>\n",
       "    </tr>\n",
       "    <tr>\n",
       "      <th>architect</th>\n",
       "      <td>prof</td>\n",
       "      <td>75</td>\n",
       "      <td>92</td>\n",
       "      <td>90</td>\n",
       "    </tr>\n",
       "    <tr>\n",
       "      <th>author</th>\n",
       "      <td>prof</td>\n",
       "      <td>55</td>\n",
       "      <td>90</td>\n",
       "      <td>76</td>\n",
       "    </tr>\n",
       "    <tr>\n",
       "      <th>chemist</th>\n",
       "      <td>prof</td>\n",
       "      <td>64</td>\n",
       "      <td>86</td>\n",
       "      <td>90</td>\n",
       "    </tr>\n",
       "  </tbody>\n",
       "</table>\n",
       "</div>"
      ],
      "text/plain": [
       "            type  income  education  prestige\n",
       "rownames                                     \n",
       "accountant  prof      62         86        82\n",
       "pilot       prof      72         76        83\n",
       "architect   prof      75         92        90\n",
       "author      prof      55         90        76\n",
       "chemist     prof      64         86        90"
      ]
     },
     "execution_count": 51,
     "metadata": {},
     "output_type": "execute_result"
    }
   ],
   "source": [
    "# We download the dataset we are going to work.\n",
    "\n",
    "df = sm.datasets.get_rdataset('Duncan', 'carData').data\n",
    "y = df['income']\n",
    "x = df['education']\n",
    "\n",
    "# To show the first lines of the dataset.\n",
    "\n",
    "df.head()"
   ]
  },
  {
   "cell_type": "markdown",
   "id": "dd29e005-03c9-41f1-b939-65c20a7bba55",
   "metadata": {},
   "source": [
    "In this example, we want to predict the **income** given the **education** of the observation.\n",
    "Later, we are going to consider the other variable prestige, in order to work with a multiple linear regression."
   ]
  },
  {
   "cell_type": "code",
   "execution_count": 52,
   "id": "959d2a87-585b-429f-8795-b23ec148e67a",
   "metadata": {},
   "outputs": [
    {
     "data": {
      "text/plain": [
       "Text(0, 0.5, 'Income')"
      ]
     },
     "execution_count": 52,
     "metadata": {},
     "output_type": "execute_result"
    },
    {
     "data": {
      "image/png": "[encoded data removed]",
      "text/plain": [
       "<Figure size 640x480 with 1 Axes>"
      ]
     },
     "metadata": {},
     "output_type": "display_data"
    }
   ],
   "source": [
    "# Representation of the data\n",
    "\n",
    "plt.scatter(x,y, alpha = 0.8)\n",
    "plt.title(\"Representation of the data set\")\n",
    "plt.xlabel(\"Education\")\n",
    "plt.ylabel(\"Income\")\n"
   ]
  },
  {
   "cell_type": "code",
   "execution_count": 53,
   "id": "699c5901-4606-43db-aeed-dc0a845fdfa8",
   "metadata": {},
   "outputs": [
    {
     "data": {
      "text/plain": [
       "<matplotlib.legend.Legend at 0x31b47b8c0>"
      ]
     },
     "execution_count": 53,
     "metadata": {},
     "output_type": "execute_result"
    },
    {
     "data": {
      "image/png": "[encoded data removed]",
      "text/plain": [
       "<Figure size 640x480 with 1 Axes>"
      ]
     },
     "metadata": {},
     "output_type": "display_data"
    }
   ],
   "source": [
    "# Learn the model\n",
    "\n",
    "model = sm.OLS(y, sm.add_constant(x))\n",
    "results = model.fit()\n",
    "\n",
    "# Extract the model parameters\n",
    "b, m = results.params\n",
    "\n",
    "# Represent the learning model\n",
    "plt.scatter(x, y, label=\"Train data points\")\n",
    "plt.plot(\n",
    "    x,\n",
    "    results.predict(),\n",
    "    linewidth=3,\n",
    "    color=\"tab:orange\",\n",
    "    label=\"Model predictions\",\n",
    ")\n",
    "plt.title(\"Linear Regression\")\n",
    "plt.xlabel(\"Education\")\n",
    "plt.ylabel(\"Income\")\n",
    "plt.legend()"
   ]
  },
  {
   "cell_type": "markdown",
   "id": "7ef15a1e-5f2d-4951-bcce-e643d315a366",
   "metadata": {},
   "source": [
    "It seems that we have a linear relationship between these two variables. The following line of code provides several outputs on the learned model that we are going to explain in this course."
   ]
  },
  {
   "cell_type": "code",
   "execution_count": 54,
   "id": "4b5f1caf-be52-4af6-988c-b6a806adcc7e",
   "metadata": {},
   "outputs": [
    {
     "data": {
      "text/html": [
       "<table class=\"simpletable\">\n",
       "<caption>OLS Regression Results</caption>\n",
       "<tr>\n",
       "  <th>Dep. Variable:</th>         <td>income</td>      <th>  R-squared:         </th> <td>   0.525</td>\n",
       "</tr>\n",
       "<tr>\n",
       "  <th>Model:</th>                   <td>OLS</td>       <th>  Adj. R-squared:    </th> <td>   0.514</td>\n",
       "</tr>\n",
       "<tr>\n",
       "  <th>Method:</th>             <td>Least Squares</td>  <th>  F-statistic:       </th> <td>   47.51</td>\n",
       "</tr>\n",
       "<tr>\n",
       "  <th>Date:</th>             <td>Sun, 09 Feb 2025</td> <th>  Prob (F-statistic):</th> <td>1.84e-08</td>\n",
       "</tr>\n",
       "<tr>\n",
       "  <th>Time:</th>                 <td>20:46:19</td>     <th>  Log-Likelihood:    </th> <td> -190.42</td>\n",
       "</tr>\n",
       "<tr>\n",
       "  <th>No. Observations:</th>      <td>    45</td>      <th>  AIC:               </th> <td>   384.8</td>\n",
       "</tr>\n",
       "<tr>\n",
       "  <th>Df Residuals:</th>          <td>    43</td>      <th>  BIC:               </th> <td>   388.5</td>\n",
       "</tr>\n",
       "<tr>\n",
       "  <th>Df Model:</th>              <td>     1</td>      <th>                     </th>     <td> </td>   \n",
       "</tr>\n",
       "<tr>\n",
       "  <th>Covariance Type:</th>      <td>nonrobust</td>    <th>                     </th>     <td> </td>   \n",
       "</tr>\n",
       "</table>\n",
       "<table class=\"simpletable\">\n",
       "<tr>\n",
       "      <td></td>         <th>coef</th>     <th>std err</th>      <th>t</th>      <th>P>|t|</th>  <th>[0.025</th>    <th>0.975]</th>  \n",
       "</tr>\n",
       "<tr>\n",
       "  <th>const</th>     <td>   10.6035</td> <td>    5.198</td> <td>    2.040</td> <td> 0.048</td> <td>    0.120</td> <td>   21.087</td>\n",
       "</tr>\n",
       "<tr>\n",
       "  <th>education</th> <td>    0.5949</td> <td>    0.086</td> <td>    6.893</td> <td> 0.000</td> <td>    0.421</td> <td>    0.769</td>\n",
       "</tr>\n",
       "</table>\n",
       "<table class=\"simpletable\">\n",
       "<tr>\n",
       "  <th>Omnibus:</th>       <td> 9.841</td> <th>  Durbin-Watson:     </th> <td>   1.736</td>\n",
       "</tr>\n",
       "<tr>\n",
       "  <th>Prob(Omnibus):</th> <td> 0.007</td> <th>  Jarque-Bera (JB):  </th> <td>  10.609</td>\n",
       "</tr>\n",
       "<tr>\n",
       "  <th>Skew:</th>          <td> 0.776</td> <th>  Prob(JB):          </th> <td> 0.00497</td>\n",
       "</tr>\n",
       "<tr>\n",
       "  <th>Kurtosis:</th>      <td> 4.802</td> <th>  Cond. No.          </th> <td>    123.</td>\n",
       "</tr>\n",
       "</table><br/><br/>Notes:<br/>[1] Standard Errors assume that the covariance matrix of the errors is correctly specified."
      ],
      "text/latex": [
       "\\begin{center}\n",
       "\\begin{tabular}{lclc}\n",
       "\\toprule\n",
       "\\textbf{Dep. Variable:}    &      income      & \\textbf{  R-squared:         } &     0.525   \\\\\n",
       "\\textbf{Model:}            &       OLS        & \\textbf{  Adj. R-squared:    } &     0.514   \\\\\n",
       "\\textbf{Method:}           &  Least Squares   & \\textbf{  F-statistic:       } &     47.51   \\\\\n",
       "\\textbf{Date:}             & Sun, 09 Feb 2025 & \\textbf{  Prob (F-statistic):} &  1.84e-08   \\\\\n",
       "\\textbf{Time:}             &     20:46:19     & \\textbf{  Log-Likelihood:    } &   -190.42   \\\\\n",
       "\\textbf{No. Observations:} &          45      & \\textbf{  AIC:               } &     384.8   \\\\\n",
       "\\textbf{Df Residuals:}     &          43      & \\textbf{  BIC:               } &     388.5   \\\\\n",
       "\\textbf{Df Model:}         &           1      & \\textbf{                     } &             \\\\\n",
       "\\textbf{Covariance Type:}  &    nonrobust     & \\textbf{                     } &             \\\\\n",
       "\\bottomrule\n",
       "\\end{tabular}\n",
       "\\begin{tabular}{lcccccc}\n",
       "                   & \\textbf{coef} & \\textbf{std err} & \\textbf{t} & \\textbf{P$> |$t$|$} & \\textbf{[0.025} & \\textbf{0.975]}  \\\\\n",
       "\\midrule\n",
       "\\textbf{const}     &      10.6035  &        5.198     &     2.040  &         0.048        &        0.120    &       21.087     \\\\\n",
       "\\textbf{education} &       0.5949  &        0.086     &     6.893  &         0.000        &        0.421    &        0.769     \\\\\n",
       "\\bottomrule\n",
       "\\end{tabular}\n",
       "\\begin{tabular}{lclc}\n",
       "\\textbf{Omnibus:}       &  9.841 & \\textbf{  Durbin-Watson:     } &    1.736  \\\\\n",
       "\\textbf{Prob(Omnibus):} &  0.007 & \\textbf{  Jarque-Bera (JB):  } &   10.609  \\\\\n",
       "\\textbf{Skew:}          &  0.776 & \\textbf{  Prob(JB):          } &  0.00497  \\\\\n",
       "\\textbf{Kurtosis:}      &  4.802 & \\textbf{  Cond. No.          } &     123.  \\\\\n",
       "\\bottomrule\n",
       "\\end{tabular}\n",
       "%\\caption{OLS Regression Results}\n",
       "\\end{center}\n",
       "\n",
       "Notes: \\newline\n",
       " [1] Standard Errors assume that the covariance matrix of the errors is correctly specified."
      ],
      "text/plain": [
       "<class 'statsmodels.iolib.summary.Summary'>\n",
       "\"\"\"\n",
       "                            OLS Regression Results                            \n",
       "==============================================================================\n",
       "Dep. Variable:                 income   R-squared:                       0.525\n",
       "Model:                            OLS   Adj. R-squared:                  0.514\n",
       "Method:                 Least Squares   F-statistic:                     47.51\n",
       "Date:                Sun, 09 Feb 2025   Prob (F-statistic):           1.84e-08\n",
       "Time:                        20:46:19   Log-Likelihood:                -190.42\n",
       "No. Observations:                  45   AIC:                             384.8\n",
       "Df Residuals:                      43   BIC:                             388.5\n",
       "Df Model:                           1                                         \n",
       "Covariance Type:            nonrobust                                         \n",
       "==============================================================================\n",
       "                 coef    std err          t      P>|t|      [0.025      0.975]\n",
       "------------------------------------------------------------------------------\n",
       "const         10.6035      5.198      2.040      0.048       0.120      21.087\n",
       "education      0.5949      0.086      6.893      0.000       0.421       0.769\n",
       "==============================================================================\n",
       "Omnibus:                        9.841   Durbin-Watson:                   1.736\n",
       "Prob(Omnibus):                  0.007   Jarque-Bera (JB):               10.609\n",
       "Skew:                           0.776   Prob(JB):                      0.00497\n",
       "Kurtosis:                       4.802   Cond. No.                         123.\n",
       "==============================================================================\n",
       "\n",
       "Notes:\n",
       "[1] Standard Errors assume that the covariance matrix of the errors is correctly specified.\n",
       "\"\"\""
      ]
     },
     "execution_count": 54,
     "metadata": {},
     "output_type": "execute_result"
    }
   ],
   "source": [
    "# Summary of the model\n",
    "\n",
    "results.summary()"
   ]
  },
  {
   "cell_type": "markdown",
   "id": "8549f84e-f281-406c-aeb1-59e55eaf540b",
   "metadata": {},
   "source": [
    "## 2. Parameter estimation"
   ]
  },
  {
   "cell_type": "markdown",
   "id": "9bcfa4c3-914a-4d14-8465-baf2ffc97992",
   "metadata": {},
   "source": [
    "We have previously seen that the a line was learned to describe the relation between the two variables. But ... how is it learned? \n",
    "\n",
    "Keep in mind that the main idea is to find a *line* which is good approximation of the dataset, *i.e.* which is not far from the set of points. But, what does that mean not being far from a set of point, which distance are we going to use for this and how the parameters $\\beta_j$ estimated. \n",
    "\n",
    "All of this is given in the proposition below"
   ]
  },
  {
   "cell_type": "markdown",
   "id": "5c8826f0-cb2b-4273-89a7-1f49f560d41c",
   "metadata": {},
   "source": [
    "**Proposition:** We consider the following probabilistic model for our data.\n",
    "\n",
    "$$Y =  X\\beta + \\varepsilon,$$\n",
    "\n",
    "where $Y$ it the predicted variable and $X$ is the set of variables that are used for the prediction and $\\varepsilon$ represents the error of the model.\\\\\n",
    "We consider a hypothesis $h$ of the form:\n",
    "\n",
    "$$h(\\beta,X) = \\beta_0 + \\beta_1 x_1 + \\beta_2 x_2 + \\ldots + \\beta_p x_p. $$\n",
    "\n",
    "Given a set $S$ of $m$ examples, $X = (x_1,x_2,\\ldots,x_m)$ and $y = (y_1,y_2,\\ldots, y_m)$\n",
    "then the solution of Ordinary Least Square problem:\n",
    "\n",
    "$$\\underset{\\beta \\in \\mathbb{R}^{p+1}}{\\min} \\; \\Vert y-h(\\beta, X) \\Vert_2^2 = \\underset{\\beta \\in \\mathbb{R}^{p+1}}{\\min} \\; \\sum_{i=1}^m \\left(y_i - h(\\beta,x_i)\\right)^2 = \\underset{\\beta \\in \\mathbb{R}^{p+1}}{\\min} \\; \\sum_{i=1}^m \\left(y_i - (\\beta_0 + \\beta_1 x_{i,1} + \\beta_2 x_{i,2} + \\ldots + \\beta_p x_{i,p})\\right)^2 ,$$\n",
    "\n",
    "is given by: \n",
    "\n",
    "$$\\hat{\\beta} = (X^\\top X)^{-1}X^\\top y.$$"
   ]
  },
  {
   "cell_type": "markdown",
   "id": "dc89b1b4-ae42-40ec-bf77-947190742bde",
   "metadata": {},
   "source": [
    "### Exercise 1: Expression of the solution for the simple linear model"
   ]
  },
  {
   "cell_type": "markdown",
   "id": "5823f717-3d83-4747-9718-1095ade8f6df",
   "metadata": {},
   "source": [
    "Use your knowledge to give an expression of the slope and the intercept of the simple linear model using matrix calculations and the result presented above. \n",
    "More precisely, show that the slope $\\beta_1$ and the intercept $\\beta_0$ are respectively given by :\n",
    "\n",
    "$$ \\hat\\beta_1 = \\dfrac{Cov[X,Y]}{Var[X]} \\quad \\text{and} \\quad \\hat\\beta_0 = \\mathbb{E}[Y] - \\hat\\beta_1\\mathbb{E}[X],$$\n",
    "\n",
    "where $\\mathbb{E}[•]$ stands for the expectation of the random variable, $i.e.$, its mean value, $Var[•]$ for its variance and $Cov[•,•]$ stands for the covriance of a couple of random variables."
   ]
  },
  {
   "cell_type": "markdown",
   "id": "49f14651-27c7-4b0a-a436-8f1af15bdf9a",
   "metadata": {},
   "source": [
    "## 3. Output of the linear model"
   ]
  },
  {
   "cell_type": "code",
   "execution_count": 56,
   "id": "519e684b-f782-481b-b402-3464bd9d3839",
   "metadata": {},
   "outputs": [
    {
     "data": {
      "text/html": [
       "<table class=\"simpletable\">\n",
       "<caption>OLS Regression Results</caption>\n",
       "<tr>\n",
       "  <th>Dep. Variable:</th>         <td>income</td>      <th>  R-squared:         </th> <td>   0.525</td>\n",
       "</tr>\n",
       "<tr>\n",
       "  <th>Model:</th>                   <td>OLS</td>       <th>  Adj. R-squared:    </th> <td>   0.514</td>\n",
       "</tr>\n",
       "<tr>\n",
       "  <th>Method:</th>             <td>Least Squares</td>  <th>  F-statistic:       </th> <td>   47.51</td>\n",
       "</tr>\n",
       "<tr>\n",
       "  <th>Date:</th>             <td>Sun, 09 Feb 2025</td> <th>  Prob (F-statistic):</th> <td>1.84e-08</td>\n",
       "</tr>\n",
       "<tr>\n",
       "  <th>Time:</th>                 <td>20:46:36</td>     <th>  Log-Likelihood:    </th> <td> -190.42</td>\n",
       "</tr>\n",
       "<tr>\n",
       "  <th>No. Observations:</th>      <td>    45</td>      <th>  AIC:               </th> <td>   384.8</td>\n",
       "</tr>\n",
       "<tr>\n",
       "  <th>Df Residuals:</th>          <td>    43</td>      <th>  BIC:               </th> <td>   388.5</td>\n",
       "</tr>\n",
       "<tr>\n",
       "  <th>Df Model:</th>              <td>     1</td>      <th>                     </th>     <td> </td>   \n",
       "</tr>\n",
       "<tr>\n",
       "  <th>Covariance Type:</th>      <td>nonrobust</td>    <th>                     </th>     <td> </td>   \n",
       "</tr>\n",
       "</table>\n",
       "<table class=\"simpletable\">\n",
       "<tr>\n",
       "      <td></td>         <th>coef</th>     <th>std err</th>      <th>t</th>      <th>P>|t|</th>  <th>[0.025</th>    <th>0.975]</th>  \n",
       "</tr>\n",
       "<tr>\n",
       "  <th>const</th>     <td>   10.6035</td> <td>    5.198</td> <td>    2.040</td> <td> 0.048</td> <td>    0.120</td> <td>   21.087</td>\n",
       "</tr>\n",
       "<tr>\n",
       "  <th>education</th> <td>    0.5949</td> <td>    0.086</td> <td>    6.893</td> <td> 0.000</td> <td>    0.421</td> <td>    0.769</td>\n",
       "</tr>\n",
       "</table>\n",
       "<table class=\"simpletable\">\n",
       "<tr>\n",
       "  <th>Omnibus:</th>       <td> 9.841</td> <th>  Durbin-Watson:     </th> <td>   1.736</td>\n",
       "</tr>\n",
       "<tr>\n",
       "  <th>Prob(Omnibus):</th> <td> 0.007</td> <th>  Jarque-Bera (JB):  </th> <td>  10.609</td>\n",
       "</tr>\n",
       "<tr>\n",
       "  <th>Skew:</th>          <td> 0.776</td> <th>  Prob(JB):          </th> <td> 0.00497</td>\n",
       "</tr>\n",
       "<tr>\n",
       "  <th>Kurtosis:</th>      <td> 4.802</td> <th>  Cond. No.          </th> <td>    123.</td>\n",
       "</tr>\n",
       "</table><br/><br/>Notes:<br/>[1] Standard Errors assume that the covariance matrix of the errors is correctly specified."
      ],
      "text/latex": [
       "\\begin{center}\n",
       "\\begin{tabular}{lclc}\n",
       "\\toprule\n",
       "\\textbf{Dep. Variable:}    &      income      & \\textbf{  R-squared:         } &     0.525   \\\\\n",
       "\\textbf{Model:}            &       OLS        & \\textbf{  Adj. R-squared:    } &     0.514   \\\\\n",
       "\\textbf{Method:}           &  Least Squares   & \\textbf{  F-statistic:       } &     47.51   \\\\\n",
       "\\textbf{Date:}             & Sun, 09 Feb 2025 & \\textbf{  Prob (F-statistic):} &  1.84e-08   \\\\\n",
       "\\textbf{Time:}             &     20:46:36     & \\textbf{  Log-Likelihood:    } &   -190.42   \\\\\n",
       "\\textbf{No. Observations:} &          45      & \\textbf{  AIC:               } &     384.8   \\\\\n",
       "\\textbf{Df Residuals:}     &          43      & \\textbf{  BIC:               } &     388.5   \\\\\n",
       "\\textbf{Df Model:}         &           1      & \\textbf{                     } &             \\\\\n",
       "\\textbf{Covariance Type:}  &    nonrobust     & \\textbf{                     } &             \\\\\n",
       "\\bottomrule\n",
       "\\end{tabular}\n",
       "\\begin{tabular}{lcccccc}\n",
       "                   & \\textbf{coef} & \\textbf{std err} & \\textbf{t} & \\textbf{P$> |$t$|$} & \\textbf{[0.025} & \\textbf{0.975]}  \\\\\n",
       "\\midrule\n",
       "\\textbf{const}     &      10.6035  &        5.198     &     2.040  &         0.048        &        0.120    &       21.087     \\\\\n",
       "\\textbf{education} &       0.5949  &        0.086     &     6.893  &         0.000        &        0.421    &        0.769     \\\\\n",
       "\\bottomrule\n",
       "\\end{tabular}\n",
       "\\begin{tabular}{lclc}\n",
       "\\textbf{Omnibus:}       &  9.841 & \\textbf{  Durbin-Watson:     } &    1.736  \\\\\n",
       "\\textbf{Prob(Omnibus):} &  0.007 & \\textbf{  Jarque-Bera (JB):  } &   10.609  \\\\\n",
       "\\textbf{Skew:}          &  0.776 & \\textbf{  Prob(JB):          } &  0.00497  \\\\\n",
       "\\textbf{Kurtosis:}      &  4.802 & \\textbf{  Cond. No.          } &     123.  \\\\\n",
       "\\bottomrule\n",
       "\\end{tabular}\n",
       "%\\caption{OLS Regression Results}\n",
       "\\end{center}\n",
       "\n",
       "Notes: \\newline\n",
       " [1] Standard Errors assume that the covariance matrix of the errors is correctly specified."
      ],
      "text/plain": [
       "<class 'statsmodels.iolib.summary.Summary'>\n",
       "\"\"\"\n",
       "                            OLS Regression Results                            \n",
       "==============================================================================\n",
       "Dep. Variable:                 income   R-squared:                       0.525\n",
       "Model:                            OLS   Adj. R-squared:                  0.514\n",
       "Method:                 Least Squares   F-statistic:                     47.51\n",
       "Date:                Sun, 09 Feb 2025   Prob (F-statistic):           1.84e-08\n",
       "Time:                        20:46:36   Log-Likelihood:                -190.42\n",
       "No. Observations:                  45   AIC:                             384.8\n",
       "Df Residuals:                      43   BIC:                             388.5\n",
       "Df Model:                           1                                         \n",
       "Covariance Type:            nonrobust                                         \n",
       "==============================================================================\n",
       "                 coef    std err          t      P>|t|      [0.025      0.975]\n",
       "------------------------------------------------------------------------------\n",
       "const         10.6035      5.198      2.040      0.048       0.120      21.087\n",
       "education      0.5949      0.086      6.893      0.000       0.421       0.769\n",
       "==============================================================================\n",
       "Omnibus:                        9.841   Durbin-Watson:                   1.736\n",
       "Prob(Omnibus):                  0.007   Jarque-Bera (JB):               10.609\n",
       "Skew:                           0.776   Prob(JB):                      0.00497\n",
       "Kurtosis:                       4.802   Cond. No.                         123.\n",
       "==============================================================================\n",
       "\n",
       "Notes:\n",
       "[1] Standard Errors assume that the covariance matrix of the errors is correctly specified.\n",
       "\"\"\""
      ]
     },
     "execution_count": 56,
     "metadata": {},
     "output_type": "execute_result"
    }
   ],
   "source": [
    "results.summary()"
   ]
  },
  {
   "cell_type": "markdown",
   "id": "e2717e3f-27c9-4907-844f-c6d4b67fe7d0",
   "metadata": {},
   "source": [
    "We are going to explain all of these outputs: what they mean, how they can be used and ... how they can be computed. "
   ]
  },
  {
   "cell_type": "markdown",
   "id": "20b27786-4f53-4b82-863e-9b8b2591dc84",
   "metadata": {},
   "source": [
    "### Exercise 2: Linear model output"
   ]
  },
  {
   "cell_type": "markdown",
   "id": "c156b24f-e0fd-4014-a0d1-f809848c48a2",
   "metadata": {},
   "source": [
    "Use what has been presented in class in order to compute the outputs of the linear regression models. \n",
    "Focus only on the one that have been presented in class, you can focus on:\n",
    "\n",
    "- parameters estimation: values, standard errors, t-values and p-values.\n",
    "- quality of the model: F-statistic, R-squared and Adj. R-squared."
   ]
  },
  {
   "cell_type": "markdown",
   "id": "cbe9f56c-88ad-4754-bd05-df3e018ac4f4",
   "metadata": {},
   "source": [
    "### Exerçise 3: Multiple linear model"
   ]
  },
  {
   "cell_type": "markdown",
   "id": "b20ac54f-a0c6-4235-b9f8-b83c73869d3c",
   "metadata": {},
   "source": [
    "Now we aim to repeat the same exercise as in Exercise 2 but using the two variables *education* and *prestige* in order to predcit the *income*, *i.e.*, working with a multiple linear model. \n",
    "\n",
    "Compare this multiple linear model, with the simple linear model. Can you say that this model is better? Are the variables important for the prediction? Write your observations and conclusion. \n",
    "\n",
    "You can use the above code to conduct your analysis and the small script below in order to prepare your dataset. "
   ]
  },
  {
   "cell_type": "code",
   "execution_count": 47,
   "id": "433ffb09-074c-4855-be41-501f824fd960",
   "metadata": {},
   "outputs": [],
   "source": [
    "df = sm.datasets.get_rdataset('Duncan', 'carData').data\n",
    "y = df['income']\n",
    "x = df[['education','prestige']]"
   ]
  }
 ],
 "metadata": {
  "kernelspec": {
   "display_name": "Python 3 (ipykernel)",
   "language": "python",
   "name": "python3"
  },
  "language_info": {
   "codemirror_mode": {
    "name": "ipython",
    "version": 3
   },
   "file_extension": ".py",
   "mimetype": "text/x-python",
   "name": "python",
   "nbconvert_exporter": "python",
   "pygments_lexer": "ipython3",
   "version": "3.12.4"
  }
 },
 "nbformat": 4,
 "nbformat_minor": 5
}
